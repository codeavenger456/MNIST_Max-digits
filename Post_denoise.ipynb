{
  "nbformat": 4,
  "nbformat_minor": 0,
  "metadata": {
    "colab": {
      "name": "Post_denoise",
      "provenance": [],
      "collapsed_sections": [],
      "include_colab_link": true
    },
    "kernelspec": {
      "name": "python3",
      "display_name": "Python 3"
    },
    "accelerator": "GPU"
  },
  "cells": [
    {
      "cell_type": "markdown",
      "metadata": {
        "id": "view-in-github",
        "colab_type": "text"
      },
      "source": [
        "<a href=\"https://colab.research.google.com/github/codeavenger456/MNIST_Max-digits/blob/main/Post_denoise.ipynb\" target=\"_parent\"><img src=\"https://colab.research.google.com/assets/colab-badge.svg\" alt=\"Open In Colab\"/></a>"
      ]
    },
    {
      "cell_type": "code",
      "metadata": {
        "id": "ahUCbSBRMGgt",
        "colab": {
          "base_uri": "https://localhost:8080/"
        },
        "outputId": "bee7490b-4e91-4227-d6ac-6aefbfa20ba3"
      },
      "source": [
        "pip install kaggle"
      ],
      "execution_count": null,
      "outputs": [
        {
          "output_type": "stream",
          "text": [
            "Requirement already satisfied: kaggle in /usr/local/lib/python3.6/dist-packages (1.5.9)\n",
            "Requirement already satisfied: requests in /usr/local/lib/python3.6/dist-packages (from kaggle) (2.23.0)\n",
            "Requirement already satisfied: certifi in /usr/local/lib/python3.6/dist-packages (from kaggle) (2020.11.8)\n",
            "Requirement already satisfied: six>=1.10 in /usr/local/lib/python3.6/dist-packages (from kaggle) (1.15.0)\n",
            "Requirement already satisfied: python-slugify in /usr/local/lib/python3.6/dist-packages (from kaggle) (4.0.1)\n",
            "Requirement already satisfied: slugify in /usr/local/lib/python3.6/dist-packages (from kaggle) (0.0.1)\n",
            "Requirement already satisfied: python-dateutil in /usr/local/lib/python3.6/dist-packages (from kaggle) (2.8.1)\n",
            "Requirement already satisfied: tqdm in /usr/local/lib/python3.6/dist-packages (from kaggle) (4.41.1)\n",
            "Requirement already satisfied: urllib3 in /usr/local/lib/python3.6/dist-packages (from kaggle) (1.24.3)\n",
            "Requirement already satisfied: chardet<4,>=3.0.2 in /usr/local/lib/python3.6/dist-packages (from requests->kaggle) (3.0.4)\n",
            "Requirement already satisfied: idna<3,>=2.5 in /usr/local/lib/python3.6/dist-packages (from requests->kaggle) (2.10)\n",
            "Requirement already satisfied: text-unidecode>=1.3 in /usr/local/lib/python3.6/dist-packages (from python-slugify->kaggle) (1.3)\n"
          ],
          "name": "stdout"
        }
      ]
    },
    {
      "cell_type": "code",
      "metadata": {
        "id": "4TnAZKz_Lwyh",
        "colab": {
          "resources": {
            "http://localhost:8080/nbextensions/google.colab/files.js": {
              "data": "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",
              "ok": true,
              "headers": [
                [
                  "content-type",
                  "application/javascript"
                ]
              ],
              "status": 200,
              "status_text": ""
            }
          },
          "base_uri": "https://localhost:8080/",
          "height": 93
        },
        "outputId": "00232780-c285-4eb2-bc9a-f8c47ed4e8b0"
      },
      "source": [
        "from google.colab import files\n",
        "\n",
        "uploaded = files.upload()\n",
        "\n",
        "for fn in uploaded.keys():\n",
        "  print('User uploaded file \"{name}\" with length {length} bytes'.format(\n",
        "      name=fn, length=len(uploaded[fn])))\n",
        "  \n",
        "# Then move kaggle.json into the folder where the API expects to find it.\n",
        "!mkdir -p ~/.kaggle/ && mv kaggle.json ~/.kaggle/ && chmod 600 ~/.kaggle/kaggle.json"
      ],
      "execution_count": null,
      "outputs": [
        {
          "output_type": "display_data",
          "data": {
            "text/html": [
              "\n",
              "     <input type=\"file\" id=\"files-616efb8f-199d-4713-ba49-145fe07fae7c\" name=\"files[]\" multiple disabled\n",
              "        style=\"border:none\" />\n",
              "     <output id=\"result-616efb8f-199d-4713-ba49-145fe07fae7c\">\n",
              "      Upload widget is only available when the cell has been executed in the\n",
              "      current browser session. Please rerun this cell to enable.\n",
              "      </output>\n",
              "      <script src=\"/nbextensions/google.colab/files.js\"></script> "
            ],
            "text/plain": [
              "<IPython.core.display.HTML object>"
            ]
          },
          "metadata": {
            "tags": []
          }
        },
        {
          "output_type": "stream",
          "text": [
            "Saving kaggle.json to kaggle.json\n",
            "User uploaded file \"kaggle.json\" with length 70 bytes\n"
          ],
          "name": "stdout"
        }
      ]
    },
    {
      "cell_type": "code",
      "metadata": {
        "id": "6hjEUJDFMQL-",
        "colab": {
          "base_uri": "https://localhost:8080/"
        },
        "outputId": "f922158e-7daf-49a8-8d2f-7b89183cf969"
      },
      "source": [
        "! kaggle competitions download -c mais-202-fall-2020-kaggle-competition"
      ],
      "execution_count": null,
      "outputs": [
        {
          "output_type": "stream",
          "text": [
            "Warning: Looks like you're using an outdated API Version, please consider updating (server 1.5.9 / client 1.5.4)\n",
            "Downloading train_y.csv to /content\n",
            "  0% 0.00/341k [00:00<?, ?B/s]\n",
            "100% 341k/341k [00:00<00:00, 48.9MB/s]\n",
            "Downloading test_x.npy.zip to /content\n",
            " 98% 192M/196M [00:01<00:00, 160MB/s]\n",
            "100% 196M/196M [00:01<00:00, 149MB/s]\n",
            "Downloading train_x.npy.zip to /content\n",
            " 99% 776M/784M [00:07<00:00, 86.6MB/s]\n",
            "100% 784M/784M [00:07<00:00, 108MB/s] \n"
          ],
          "name": "stdout"
        }
      ]
    },
    {
      "cell_type": "code",
      "metadata": {
        "id": "W7do-etQMQW6",
        "colab": {
          "base_uri": "https://localhost:8080/"
        },
        "outputId": "60f3173d-f38d-481f-f34f-f6d81e16c88d"
      },
      "source": [
        "! unzip train_x.npy.zip\n",
        "! unzip test_x.npy.zip"
      ],
      "execution_count": null,
      "outputs": [
        {
          "output_type": "stream",
          "text": [
            "Archive:  train_x.npy.zip\n",
            "  inflating: train_x.npy             \n",
            "Archive:  test_x.npy.zip\n",
            "  inflating: test_x.npy              \n"
          ],
          "name": "stdout"
        }
      ]
    },
    {
      "cell_type": "code",
      "metadata": {
        "id": "TG3wYjb6MQeT"
      },
      "source": [
        "import numpy as np\n",
        "train_images = np.load(\"train_x.npy\")"
      ],
      "execution_count": null,
      "outputs": []
    },
    {
      "cell_type": "code",
      "metadata": {
        "id": "Vj4OTgH8wGH4"
      },
      "source": [
        "import tensorflow as tf\n",
        "#tf.test.gpu_device_name()"
      ],
      "execution_count": null,
      "outputs": []
    },
    {
      "cell_type": "code",
      "metadata": {
        "id": "BtgY-H16MWg3",
        "colab": {
          "base_uri": "https://localhost:8080/",
          "height": 268
        },
        "outputId": "667033fd-b8ed-4fce-e26e-a8fd8b0b10af"
      },
      "source": [
        "import matplotlib.pyplot as plt\n",
        "\n",
        "def show_image(arr):\n",
        "    two_d = (np.reshape(arr, (128, 128)) * 255).astype(np.uint8)\n",
        "    plt.imshow(two_d, interpolation='nearest')\n",
        "    plt.show()\n",
        "\n",
        "show_image(train_images[0]) # 0 is the index of the training image you want to display"
      ],
      "execution_count": null,
      "outputs": [
        {
          "output_type": "display_data",
          "data": {
            "image/png": "[encoded data removed]",
            "text/plain": [
              "<Figure size 432x288 with 1 Axes>"
            ]
          },
          "metadata": {
            "tags": [],
            "needs_background": "light"
          }
        }
      ]
    },
    {
      "cell_type": "markdown",
      "metadata": {
        "id": "4RP4embAMb82"
      },
      "source": [
        "Import Libraries "
      ]
    },
    {
      "cell_type": "code",
      "metadata": {
        "id": "eP7Ttml7Mhjh"
      },
      "source": [
        "import cv2\n",
        "import numpy as np\n",
        "import pandas as pd\n",
        "from keras.layers import Dense, Flatten, BatchNormalization, Activation, MaxPool2D, Dropout\n",
        "from keras.preprocessing.image import ImageDataGenerator\n",
        "from keras.layers.convolutional import Conv2D\n",
        "from keras.models import Sequential\n",
        "from keras.utils import to_categorical\n",
        "from keras.optimizers import Adam\n",
        "import matplotlib.pyplot as plt\n",
        "import copy\n",
        "from sklearn.model_selection import train_test_split\n",
        "from keras.callbacks import LearningRateScheduler"
      ],
      "execution_count": null,
      "outputs": []
    },
    {
      "cell_type": "markdown",
      "metadata": {
        "id": "4GdNRhL-UDAR"
      },
      "source": [
        "CNN ARCHITECTURE "
      ]
    },
    {
      "cell_type": "markdown",
      "metadata": {
        "id": "YrKv1ebAVAkD"
      },
      "source": [
        "Get our Dataset "
      ]
    },
    {
      "cell_type": "code",
      "metadata": {
        "id": "uJSHORhoR5mQ"
      },
      "source": [
        "# use train_image instead it x_train has been previously loaded\n",
        "y_train = pd.read_csv('train_y.csv')\n",
        "#discard the Id column from the np array we dont need it\n",
        "y_train = y_train[\"Label\"]\n",
        "x_test = np.load('test_x.npy')\n",
        "# the batch picture generator only takes in categorical tuple data for some reason so we will do this\n",
        "y_train = to_categorical(y_train)"
      ],
      "execution_count": null,
      "outputs": []
    },
    {
      "cell_type": "markdown",
      "metadata": {
        "id": "VSf-F7L7UOxv"
      },
      "source": [
        "Data Augmentation and put them together in grayscale and horizontally"
      ]
    },
    {
      "cell_type": "code",
      "metadata": {
        "id": "8YW0AbaJUU5I"
      },
      "source": [
        "from google.colab.patches import cv2_imshow\n",
        "from scipy import ndimage\n",
        "def data_process(image):\n",
        "  processed = (image > 210) * 255\n",
        "  #cv2_imshow(processed)\n",
        "  processed = ndimage.median_filter(processed, size=2)\n",
        "  #cv2_imshow(processed)\n",
        "  processed = (processed - np.mean(processed) / processed.std())\n",
        "  #cv2_imshow(processed)\n",
        "  return processed"
      ],
      "execution_count": null,
      "outputs": []
    },
    {
      "cell_type": "markdown",
      "metadata": {
        "id": "CSLwegDCU5v7"
      },
      "source": [
        "Conversion"
      ]
    },
    {
      "cell_type": "code",
      "metadata": {
        "id": "ZR-BbIREU7x3"
      },
      "source": [
        "for train_pointer in range(len(train_images)):\n",
        "  train_images[train_pointer] = data_process(train_images[train_pointer])\n",
        "for test_pointer in range(len(x_test)):\n",
        "  x_test[test_pointer] = data_process(x_test[test_pointer])"
      ],
      "execution_count": null,
      "outputs": []
    },
    {
      "cell_type": "code",
      "metadata": {
        "id": "HRtJDhVXdhr0"
      },
      "source": [
        "# imagedatagenerator only takes in 4d data so we need to add an extra dimension to our data\n",
        "train_images = train_images.reshape(train_images.shape[0], train_images.shape[1], train_images.shape[2], 1)\n",
        "x_test = x_test.reshape(x_test.shape[0], x_test.shape[1], x_test.shape[2], 1)"
      ],
      "execution_count": null,
      "outputs": []
    },
    {
      "cell_type": "markdown",
      "metadata": {
        "id": "Exy5ubPIWFwT"
      },
      "source": [
        "Split training dataset into training and validation dataset"
      ]
    },
    {
      "cell_type": "code",
      "metadata": {
        "id": "Hg6sxOuvTi9X"
      },
      "source": [
        "X_train, X_val, Y_train, Y_val = train_test_split(train_images, y_train, test_size=0.2)\n"
      ],
      "execution_count": null,
      "outputs": []
    },
    {
      "cell_type": "markdown",
      "metadata": {
        "id": "3Ft0iucDPIry"
      },
      "source": [
        "Data Augmentation by ImageDataGenerator"
      ]
    },
    {
      "cell_type": "code",
      "metadata": {
        "id": "HW6xB3H_Nf_6"
      },
      "source": [
        "datagen = ImageDataGenerator(\n",
        "    rotation_range=20,\n",
        "    zoom_range = 0.2,\n",
        "    width_shift_range = 0.2,\n",
        "    height_shift_range = 0.2,\n",
        "    shear_range = 0.15\n",
        ")\n",
        "datagen.fit(X_train)"
      ],
      "execution_count": null,
      "outputs": []
    },
    {
      "cell_type": "markdown",
      "metadata": {
        "id": "78UZdI8DTGG2"
      },
      "source": [
        "CNN network"
      ]
    },
    {
      "cell_type": "code",
      "metadata": {
        "id": "Vdor6y_RTJTv"
      },
      "source": [
        "def create_model(dropout_rate=0.225, lr=1e-4): \n",
        "    model = Sequential()\n",
        "        \n",
        "    model.add(Conv2D(32, kernel_size=(3, 3), padding=\"same\", activation='relu', input_shape=(128, 128, 1)))\n",
        "    model.add(Conv2D(32, kernel_size=(3, 3), padding=\"same\", activation='relu'))\n",
        "    model.add(Conv2D(32, kernel_size=(3, 3), padding=\"same\", activation='relu'))\n",
        "    model.add(BatchNormalization())\n",
        "    model.add(MaxPool2D(pool_size=(2, 2)))\n",
        "    model.add(Dropout(dropout_rate))\n",
        "\n",
        "    model.add(Conv2D(64, kernel_size=(3, 3), padding=\"same\", activation='relu'))\n",
        "    model.add(Conv2D(64, kernel_size=(3, 3), padding=\"same\", activation='relu'))\n",
        "    model.add(Conv2D(64, kernel_size=(3, 3), padding=\"same\", activation='relu'))\n",
        "    model.add(BatchNormalization())\n",
        "    model.add(MaxPool2D(pool_size=(2, 2)))\n",
        "    model.add(Dropout(dropout_rate))\n",
        "\n",
        "    model.add(Conv2D(128, kernel_size=(3, 3), padding=\"same\", activation='relu'))\n",
        "    model.add(Conv2D(128, kernel_size=(3, 3), padding=\"same\", activation='relu'))\n",
        "    model.add(Conv2D(128, kernel_size=(3, 3), padding=\"same\", activation='relu'))\n",
        "    model.add(BatchNormalization())\n",
        "    model.add(MaxPool2D(pool_size=(2, 2)))\n",
        "    model.add(Dropout(dropout_rate))\n",
        "\n",
        "    model.add(Conv2D(256, kernel_size=(3, 3), padding=\"same\", activation='relu'))\n",
        "    model.add(Conv2D(256, kernel_size=(3, 3), padding=\"same\", activation='relu'))\n",
        "    model.add(Conv2D(256, kernel_size=(3, 3), padding=\"same\", activation='relu'))\n",
        "    model.add(BatchNormalization())\n",
        "    model.add(MaxPool2D(pool_size=(2, 2)))\n",
        "    model.add(Dropout(dropout_rate))\n",
        "\n",
        "    model.add(Flatten())\n",
        "    model.add(Dense(512, activation='relu'))\n",
        "    model.add(Dense(512, activation='relu'))\n",
        "    model.add(Dropout(0.5))\n",
        "    model.add(Dense(10, activation='softmax'))\n",
        "\n",
        "    model.compile(loss=\"categorical_crossentropy\", optimizer=Adam(learning_rate=lr), metrics=['accuracy'])\n",
        "\n",
        "    model.summary()\n",
        "    return model"
      ],
      "execution_count": null,
      "outputs": []
    },
    {
      "cell_type": "code",
      "metadata": {
        "id": "zrfF9nNtYxc6"
      },
      "source": [
        "annealer = LearningRateScheduler(lambda x: 1e-3 * 0.9 ** x)"
      ],
      "execution_count": null,
      "outputs": []
    },
    {
      "cell_type": "code",
      "metadata": {
        "colab": {
          "base_uri": "https://localhost:8080/"
        },
        "id": "xi5tUDWBXVh2",
        "outputId": "627545d2-dc7b-4e43-b68c-903cb0a3a3d4"
      },
      "source": [
        "model = create_model(dropout_rate=0.2)\n",
        "history = model.fit_generator(datagen.flow(X_train, Y_train, batch_size=200), validation_data=(X_val, Y_val), epochs=41, callbacks=[annealer], verbose=2)"
      ],
      "execution_count": null,
      "outputs": [
        {
          "output_type": "stream",
          "text": [
            "Model: \"sequential_1\"\n",
            "_________________________________________________________________\n",
            "Layer (type)                 Output Shape              Param #   \n",
            "=================================================================\n",
            "conv2d_12 (Conv2D)           (None, 128, 128, 32)      320       \n",
            "_________________________________________________________________\n",
            "conv2d_13 (Conv2D)           (None, 128, 128, 32)      9248      \n",
            "_________________________________________________________________\n",
            "conv2d_14 (Conv2D)           (None, 128, 128, 32)      9248      \n",
            "_________________________________________________________________\n",
            "batch_normalization_4 (Batch (None, 128, 128, 32)      128       \n",
            "_________________________________________________________________\n",
            "max_pooling2d_4 (MaxPooling2 (None, 64, 64, 32)        0         \n",
            "_________________________________________________________________\n",
            "dropout_5 (Dropout)          (None, 64, 64, 32)        0         \n",
            "_________________________________________________________________\n",
            "conv2d_15 (Conv2D)           (None, 64, 64, 64)        18496     \n",
            "_________________________________________________________________\n",
            "conv2d_16 (Conv2D)           (None, 64, 64, 64)        36928     \n",
            "_________________________________________________________________\n",
            "conv2d_17 (Conv2D)           (None, 64, 64, 64)        36928     \n",
            "_________________________________________________________________\n",
            "batch_normalization_5 (Batch (None, 64, 64, 64)        256       \n",
            "_________________________________________________________________\n",
            "max_pooling2d_5 (MaxPooling2 (None, 32, 32, 64)        0         \n",
            "_________________________________________________________________\n",
            "dropout_6 (Dropout)          (None, 32, 32, 64)        0         \n",
            "_________________________________________________________________\n",
            "conv2d_18 (Conv2D)           (None, 32, 32, 128)       73856     \n",
            "_________________________________________________________________\n",
            "conv2d_19 (Conv2D)           (None, 32, 32, 128)       147584    \n",
            "_________________________________________________________________\n",
            "conv2d_20 (Conv2D)           (None, 32, 32, 128)       147584    \n",
            "_________________________________________________________________\n",
            "batch_normalization_6 (Batch (None, 32, 32, 128)       512       \n",
            "_________________________________________________________________\n",
            "max_pooling2d_6 (MaxPooling2 (None, 16, 16, 128)       0         \n",
            "_________________________________________________________________\n",
            "dropout_7 (Dropout)          (None, 16, 16, 128)       0         \n",
            "_________________________________________________________________\n",
            "conv2d_21 (Conv2D)           (None, 16, 16, 256)       295168    \n",
            "_________________________________________________________________\n",
            "conv2d_22 (Conv2D)           (None, 16, 16, 256)       590080    \n",
            "_________________________________________________________________\n",
            "conv2d_23 (Conv2D)           (None, 16, 16, 256)       590080    \n",
            "_________________________________________________________________\n",
            "batch_normalization_7 (Batch (None, 16, 16, 256)       1024      \n",
            "_________________________________________________________________\n",
            "max_pooling2d_7 (MaxPooling2 (None, 8, 8, 256)         0         \n",
            "_________________________________________________________________\n",
            "dropout_8 (Dropout)          (None, 8, 8, 256)         0         \n",
            "_________________________________________________________________\n",
            "flatten_1 (Flatten)          (None, 16384)             0         \n",
            "_________________________________________________________________\n",
            "dense_3 (Dense)              (None, 512)               8389120   \n",
            "_________________________________________________________________\n",
            "dense_4 (Dense)              (None, 512)               262656    \n",
            "_________________________________________________________________\n",
            "dropout_9 (Dropout)          (None, 512)               0         \n",
            "_________________________________________________________________\n",
            "dense_5 (Dense)              (None, 10)                5130      \n",
            "=================================================================\n",
            "Total params: 10,614,346\n",
            "Trainable params: 10,613,386\n",
            "Non-trainable params: 960\n",
            "_________________________________________________________________\n",
            "Epoch 1/41\n",
            "WARNING:tensorflow:Callbacks method `on_train_batch_end` is slow compared to the batch time (batch time: 0.1264s vs `on_train_batch_end` time: 0.3335s). Check your callbacks.\n",
            "WARNING:tensorflow:Callbacks method `on_test_batch_end` is slow compared to the batch time (batch time: 0.0027s vs `on_test_batch_end` time: 0.0139s). Check your callbacks.\n",
            "160/160 - 81s - loss: 2.3507 - accuracy: 0.2438 - val_loss: 1.9414 - val_accuracy: 0.2592\n",
            "Epoch 2/41\n",
            "160/160 - 81s - loss: 1.7161 - accuracy: 0.3387 - val_loss: 2.0935 - val_accuracy: 0.2650\n",
            "Epoch 3/41\n",
            "160/160 - 80s - loss: 1.5743 - accuracy: 0.3887 - val_loss: 1.7002 - val_accuracy: 0.3445\n",
            "Epoch 4/41\n",
            "160/160 - 80s - loss: 1.3071 - accuracy: 0.5474 - val_loss: 2.2739 - val_accuracy: 0.3299\n",
            "Epoch 5/41\n",
            "160/160 - 80s - loss: 1.0261 - accuracy: 0.6566 - val_loss: 1.3074 - val_accuracy: 0.5171\n",
            "Epoch 6/41\n",
            "160/160 - 80s - loss: 0.8550 - accuracy: 0.7177 - val_loss: 0.5809 - val_accuracy: 0.8220\n",
            "Epoch 7/41\n",
            "160/160 - 80s - loss: 0.7618 - accuracy: 0.7570 - val_loss: 0.4752 - val_accuracy: 0.8704\n",
            "Epoch 8/41\n",
            "160/160 - 80s - loss: 0.6857 - accuracy: 0.7823 - val_loss: 0.3789 - val_accuracy: 0.8926\n",
            "Epoch 9/41\n",
            "160/160 - 80s - loss: 0.6463 - accuracy: 0.7989 - val_loss: 0.4204 - val_accuracy: 0.8831\n",
            "Epoch 10/41\n",
            "160/160 - 80s - loss: 0.6075 - accuracy: 0.8083 - val_loss: 0.3142 - val_accuracy: 0.9050\n",
            "Epoch 11/41\n",
            "160/160 - 80s - loss: 0.5797 - accuracy: 0.8196 - val_loss: 0.2905 - val_accuracy: 0.9129\n",
            "Epoch 12/41\n",
            "160/160 - 80s - loss: 0.5482 - accuracy: 0.8296 - val_loss: 0.2828 - val_accuracy: 0.9189\n",
            "Epoch 13/41\n",
            "160/160 - 80s - loss: 0.5283 - accuracy: 0.8361 - val_loss: 0.2289 - val_accuracy: 0.9291\n",
            "Epoch 14/41\n",
            "160/160 - 80s - loss: 0.5142 - accuracy: 0.8382 - val_loss: 0.2717 - val_accuracy: 0.9181\n",
            "Epoch 15/41\n",
            "160/160 - 80s - loss: 0.5023 - accuracy: 0.8418 - val_loss: 0.2108 - val_accuracy: 0.9379\n",
            "Epoch 16/41\n",
            "160/160 - 80s - loss: 0.4888 - accuracy: 0.8466 - val_loss: 0.2173 - val_accuracy: 0.9381\n",
            "Epoch 17/41\n",
            "160/160 - 80s - loss: 0.4823 - accuracy: 0.8468 - val_loss: 0.2482 - val_accuracy: 0.9283\n",
            "Epoch 18/41\n",
            "160/160 - 79s - loss: 0.4613 - accuracy: 0.8584 - val_loss: 0.2022 - val_accuracy: 0.9417\n",
            "Epoch 19/41\n",
            "160/160 - 80s - loss: 0.4541 - accuracy: 0.8587 - val_loss: 0.1823 - val_accuracy: 0.9495\n",
            "Epoch 20/41\n",
            "160/160 - 80s - loss: 0.4482 - accuracy: 0.8620 - val_loss: 0.1973 - val_accuracy: 0.9490\n",
            "Epoch 21/41\n",
            "160/160 - 80s - loss: 0.4434 - accuracy: 0.8610 - val_loss: 0.1770 - val_accuracy: 0.9504\n",
            "Epoch 22/41\n",
            "160/160 - 80s - loss: 0.4277 - accuracy: 0.8662 - val_loss: 0.1570 - val_accuracy: 0.9566\n",
            "Epoch 23/41\n",
            "160/160 - 80s - loss: 0.4302 - accuracy: 0.8627 - val_loss: 0.1591 - val_accuracy: 0.9576\n",
            "Epoch 24/41\n",
            "160/160 - 80s - loss: 0.4257 - accuracy: 0.8655 - val_loss: 0.1415 - val_accuracy: 0.9616\n",
            "Epoch 25/41\n",
            "160/160 - 80s - loss: 0.4183 - accuracy: 0.8683 - val_loss: 0.1476 - val_accuracy: 0.9590\n",
            "Epoch 26/41\n",
            "160/160 - 80s - loss: 0.4142 - accuracy: 0.8698 - val_loss: 0.1479 - val_accuracy: 0.9565\n",
            "Epoch 27/41\n",
            "160/160 - 80s - loss: 0.4101 - accuracy: 0.8713 - val_loss: 0.1565 - val_accuracy: 0.9579\n",
            "Epoch 28/41\n",
            "160/160 - 80s - loss: 0.3944 - accuracy: 0.8765 - val_loss: 0.1401 - val_accuracy: 0.9616\n",
            "Epoch 29/41\n",
            "160/160 - 80s - loss: 0.4021 - accuracy: 0.8733 - val_loss: 0.1331 - val_accuracy: 0.9636\n",
            "Epoch 30/41\n",
            "160/160 - 80s - loss: 0.3961 - accuracy: 0.8734 - val_loss: 0.1470 - val_accuracy: 0.9624\n",
            "Epoch 31/41\n",
            "160/160 - 80s - loss: 0.3885 - accuracy: 0.8792 - val_loss: 0.1420 - val_accuracy: 0.9603\n",
            "Epoch 32/41\n",
            "160/160 - 80s - loss: 0.3899 - accuracy: 0.8763 - val_loss: 0.1324 - val_accuracy: 0.9661\n",
            "Epoch 33/41\n",
            "160/160 - 80s - loss: 0.3936 - accuracy: 0.8748 - val_loss: 0.1337 - val_accuracy: 0.9636\n",
            "Epoch 34/41\n",
            "160/160 - 80s - loss: 0.3890 - accuracy: 0.8761 - val_loss: 0.1369 - val_accuracy: 0.9638\n",
            "Epoch 35/41\n",
            "160/160 - 80s - loss: 0.3895 - accuracy: 0.8763 - val_loss: 0.1333 - val_accuracy: 0.9653\n",
            "Epoch 36/41\n",
            "160/160 - 80s - loss: 0.3858 - accuracy: 0.8764 - val_loss: 0.1321 - val_accuracy: 0.9650\n",
            "Epoch 37/41\n",
            "160/160 - 80s - loss: 0.3844 - accuracy: 0.8766 - val_loss: 0.1287 - val_accuracy: 0.9659\n",
            "Epoch 38/41\n",
            "160/160 - 80s - loss: 0.3786 - accuracy: 0.8805 - val_loss: 0.1282 - val_accuracy: 0.9650\n",
            "Epoch 39/41\n",
            "160/160 - 80s - loss: 0.3818 - accuracy: 0.8769 - val_loss: 0.1287 - val_accuracy: 0.9659\n",
            "Epoch 40/41\n",
            "160/160 - 80s - loss: 0.3817 - accuracy: 0.8787 - val_loss: 0.1284 - val_accuracy: 0.9660\n",
            "Epoch 41/41\n",
            "160/160 - 80s - loss: 0.3731 - accuracy: 0.8792 - val_loss: 0.1291 - val_accuracy: 0.9657\n"
          ],
          "name": "stdout"
        }
      ]
    },
    {
      "cell_type": "code",
      "metadata": {
        "id": "AhDLCo6N0OSf",
        "colab": {
          "base_uri": "https://localhost:8080/",
          "height": 545
        },
        "outputId": "58b5361a-bca4-4feb-93c6-12f1b9f4d97d"
      },
      "source": [
        "plt.plot(history.history[\"accuracy\"], label=\"accuracy\")\n",
        "plt.plot(history.history[\"val_accuracy\"], label=\"val_accuracy\")\n",
        "plt.xlabel('Epoch')\n",
        "plt.ylabel('Accuracy')\n",
        "plt.legend(loc='lower right')\n",
        "plt.show()\n",
        "plt.plot(history.history['loss'], label=\"loss\")\n",
        "plt.plot(history.history['val_loss'], label=\"val_loss\")\n",
        "plt.xlabel('Epoch')\n",
        "plt.ylabel('Loss')\n",
        "plt.legend(loc='upper left')\n",
        "plt.show()"
      ],
      "execution_count": null,
      "outputs": [
        {
          "output_type": "display_data",
          "data": {
            "image/png": "[encoded data removed]",
            "text/plain": [
              "<Figure size 432x288 with 1 Axes>"
            ]
          },
          "metadata": {
            "tags": [],
            "needs_background": "light"
          }
        },
        {
          "output_type": "display_data",
          "data": {
            "image/png": "[encoded data removed]",
            "text/plain": [
              "<Figure size 432x288 with 1 Axes>"
            ]
          },
          "metadata": {
            "tags": [],
            "needs_background": "light"
          }
        }
      ]
    },
    {
      "cell_type": "code",
      "metadata": {
        "id": "CbNYF0VP4v3t"
      },
      "source": [
        "labels_probabilities = model.predict(x_test)\n",
        "labels = np.argmax(labels_probabilities, axis=1)"
      ],
      "execution_count": null,
      "outputs": []
    },
    {
      "cell_type": "code",
      "metadata": {
        "id": "sH0tprR0BOJb"
      },
      "source": [
        "ids = [i for i in range(len(labels))]\n",
        "ids = np.array(ids)\n",
        "df = pd.DataFrame({'Id':ids, 'Label': labels})\n",
        "df.to_csv('prediction.csv', index=False)"
      ],
      "execution_count": null,
      "outputs": []
    }
  ]
}
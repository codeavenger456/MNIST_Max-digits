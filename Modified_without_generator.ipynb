{
  "nbformat": 4,
  "nbformat_minor": 0,
  "metadata": {
    "colab": {
      "name": "Modified_without_generator",
      "provenance": [],
      "collapsed_sections": [],
      "toc_visible": true,
      "include_colab_link": true
    },
    "kernelspec": {
      "name": "python3",
      "display_name": "Python 3"
    },
    "accelerator": "GPU"
  },
  "cells": [
    {
      "cell_type": "markdown",
      "metadata": {
        "id": "view-in-github",
        "colab_type": "text"
      },
      "source": [
        "<a href=\"https://colab.research.google.com/github/codeavenger456/MNIST_Max-digits/blob/main/Modified_without_generator.ipynb\" target=\"_parent\"><img src=\"https://colab.research.google.com/assets/colab-badge.svg\" alt=\"Open In Colab\"/></a>"
      ]
    },
    {
      "cell_type": "code",
      "metadata": {
        "id": "ahUCbSBRMGgt",
        "colab": {
          "base_uri": "https://localhost:8080/"
        },
        "outputId": "2a4bbbc4-0cb8-4bf4-9f7f-c6290ac39daa"
      },
      "source": [
        "pip install kaggle"
      ],
      "execution_count": 1,
      "outputs": [
        {
          "output_type": "stream",
          "text": [
            "Requirement already satisfied: kaggle in /usr/local/lib/python3.6/dist-packages (1.5.9)\n",
            "Requirement already satisfied: python-dateutil in /usr/local/lib/python3.6/dist-packages (from kaggle) (2.8.1)\n",
            "Requirement already satisfied: requests in /usr/local/lib/python3.6/dist-packages (from kaggle) (2.23.0)\n",
            "Requirement already satisfied: six>=1.10 in /usr/local/lib/python3.6/dist-packages (from kaggle) (1.15.0)\n",
            "Requirement already satisfied: urllib3 in /usr/local/lib/python3.6/dist-packages (from kaggle) (1.24.3)\n",
            "Requirement already satisfied: slugify in /usr/local/lib/python3.6/dist-packages (from kaggle) (0.0.1)\n",
            "Requirement already satisfied: python-slugify in /usr/local/lib/python3.6/dist-packages (from kaggle) (4.0.1)\n",
            "Requirement already satisfied: tqdm in /usr/local/lib/python3.6/dist-packages (from kaggle) (4.41.1)\n",
            "Requirement already satisfied: certifi in /usr/local/lib/python3.6/dist-packages (from kaggle) (2020.6.20)\n",
            "Requirement already satisfied: idna<3,>=2.5 in /usr/local/lib/python3.6/dist-packages (from requests->kaggle) (2.10)\n",
            "Requirement already satisfied: chardet<4,>=3.0.2 in /usr/local/lib/python3.6/dist-packages (from requests->kaggle) (3.0.4)\n",
            "Requirement already satisfied: text-unidecode>=1.3 in /usr/local/lib/python3.6/dist-packages (from python-slugify->kaggle) (1.3)\n"
          ],
          "name": "stdout"
        }
      ]
    },
    {
      "cell_type": "code",
      "metadata": {
        "id": "4TnAZKz_Lwyh",
        "colab": {
          "resources": {
            "http://localhost:8080/nbextensions/google.colab/files.js": {
              "data": "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",
              "ok": true,
              "headers": [
                [
                  "content-type",
                  "application/javascript"
                ]
              ],
              "status": 200,
              "status_text": ""
            }
          },
          "base_uri": "https://localhost:8080/",
          "height": 93
        },
        "outputId": "d0fc2a8e-0dc7-45e0-b8e0-9dd0bba3c86c"
      },
      "source": [
        "from google.colab import files\n",
        "\n",
        "uploaded = files.upload()\n",
        "\n",
        "for fn in uploaded.keys():\n",
        "  print('User uploaded file \"{name}\" with length {length} bytes'.format(\n",
        "      name=fn, length=len(uploaded[fn])))\n",
        "  \n",
        "# Then move kaggle.json into the folder where the API expects to find it.\n",
        "!mkdir -p ~/.kaggle/ && mv kaggle.json ~/.kaggle/ && chmod 600 ~/.kaggle/kaggle.json"
      ],
      "execution_count": 2,
      "outputs": [
        {
          "output_type": "display_data",
          "data": {
            "text/html": [
              "\n",
              "     <input type=\"file\" id=\"files-dda52624-f4da-4293-90e0-23059c305529\" name=\"files[]\" multiple disabled\n",
              "        style=\"border:none\" />\n",
              "     <output id=\"result-dda52624-f4da-4293-90e0-23059c305529\">\n",
              "      Upload widget is only available when the cell has been executed in the\n",
              "      current browser session. Please rerun this cell to enable.\n",
              "      </output>\n",
              "      <script src=\"/nbextensions/google.colab/files.js\"></script> "
            ],
            "text/plain": [
              "<IPython.core.display.HTML object>"
            ]
          },
          "metadata": {
            "tags": []
          }
        },
        {
          "output_type": "stream",
          "text": [
            "Saving kaggle.json to kaggle.json\n",
            "User uploaded file \"kaggle.json\" with length 70 bytes\n"
          ],
          "name": "stdout"
        }
      ]
    },
    {
      "cell_type": "code",
      "metadata": {
        "id": "r38SHYblDS_B",
        "colab": {
          "base_uri": "https://localhost:8080/",
          "height": 35
        },
        "outputId": "e246548a-c460-49e1-c818-d6c10aec415f"
      },
      "source": [
        "import tensorflow as tf\n",
        "tf.test.gpu_device_name()"
      ],
      "execution_count": 3,
      "outputs": [
        {
          "output_type": "execute_result",
          "data": {
            "application/vnd.google.colaboratory.intrinsic+json": {
              "type": "string"
            },
            "text/plain": [
              "'/device:GPU:0'"
            ]
          },
          "metadata": {
            "tags": []
          },
          "execution_count": 3
        }
      ]
    },
    {
      "cell_type": "code",
      "metadata": {
        "id": "6hjEUJDFMQL-",
        "colab": {
          "base_uri": "https://localhost:8080/"
        },
        "outputId": "0c547a23-1716-44b2-edb0-2d9992e5d633"
      },
      "source": [
        "! kaggle competitions download -c mais-202-fall-2020-kaggle-competition"
      ],
      "execution_count": 4,
      "outputs": [
        {
          "output_type": "stream",
          "text": [
            "Warning: Looks like you're using an outdated API Version, please consider updating (server 1.5.9 / client 1.5.4)\n",
            "Downloading train_y.csv to /content\n",
            "  0% 0.00/341k [00:00<?, ?B/s]\n",
            "100% 341k/341k [00:00<00:00, 49.4MB/s]\n",
            "Downloading train_x.npy.zip to /content\n",
            " 98% 770M/784M [00:04<00:00, 201MB/s]\n",
            "100% 784M/784M [00:04<00:00, 183MB/s]\n",
            "Downloading test_x.npy.zip to /content\n",
            " 95% 187M/196M [00:01<00:00, 174MB/s]\n",
            "100% 196M/196M [00:01<00:00, 139MB/s]\n"
          ],
          "name": "stdout"
        }
      ]
    },
    {
      "cell_type": "code",
      "metadata": {
        "id": "W7do-etQMQW6",
        "colab": {
          "base_uri": "https://localhost:8080/"
        },
        "outputId": "618706ba-0279-4ddd-d09c-d64678ad0bdb"
      },
      "source": [
        "! unzip train_x.npy.zip\n",
        "! unzip test_x.npy.zip"
      ],
      "execution_count": 5,
      "outputs": [
        {
          "output_type": "stream",
          "text": [
            "Archive:  train_x.npy.zip\n",
            "  inflating: train_x.npy             \n",
            "Archive:  test_x.npy.zip\n",
            "  inflating: test_x.npy              \n"
          ],
          "name": "stdout"
        }
      ]
    },
    {
      "cell_type": "code",
      "metadata": {
        "id": "TG3wYjb6MQeT"
      },
      "source": [
        "import numpy as np\n",
        "train_images = np.load(\"train_x.npy\")"
      ],
      "execution_count": 123,
      "outputs": []
    },
    {
      "cell_type": "code",
      "metadata": {
        "id": "BtgY-H16MWg3",
        "colab": {
          "base_uri": "https://localhost:8080/",
          "height": 268
        },
        "outputId": "a25b33df-366c-4769-c267-ee69af5080fe"
      },
      "source": [
        "import matplotlib.pyplot as plt\n",
        "\n",
        "def show_image(arr):\n",
        "    two_d = (np.reshape(arr, (128, 128)) * 255).astype(np.uint8)\n",
        "    plt.imshow(two_d, interpolation='nearest')\n",
        "    plt.show()\n",
        "\n",
        "show_image(train_images[0]) # 0 is the index of the training image you want to display"
      ],
      "execution_count": 124,
      "outputs": [
        {
          "output_type": "display_data",
          "data": {
            "image/png": "[encoded data removed]",
            "text/plain": [
              "<Figure size 432x288 with 1 Axes>"
            ]
          },
          "metadata": {
            "tags": [],
            "needs_background": "light"
          }
        }
      ]
    },
    {
      "cell_type": "markdown",
      "metadata": {
        "id": "4RP4embAMb82"
      },
      "source": [
        "Import Libraries "
      ]
    },
    {
      "cell_type": "code",
      "metadata": {
        "id": "eP7Ttml7Mhjh"
      },
      "source": [
        "import cv2\n",
        "import numpy as np\n",
        "import pandas as pd\n",
        "from keras.layers import Dense, Flatten, BatchNormalization, Activation, MaxPool2D, Dropout, Convolution2D, AveragePooling2D, MaxPooling2D\n",
        "from keras.preprocessing.image import ImageDataGenerator\n",
        "from keras.layers.convolutional import Conv2D\n",
        "from keras.models import Sequential\n",
        "from keras.utils import to_categorical\n",
        "from keras.optimizers import RMSprop, Adam, SGD, Adadelta\n",
        "import matplotlib.pyplot as plt\n",
        "import copy\n",
        "from sklearn.model_selection import train_test_split"
      ],
      "execution_count": 145,
      "outputs": []
    },
    {
      "cell_type": "markdown",
      "metadata": {
        "id": "onkJaofqRUcG"
      },
      "source": [
        "# CNN architecture"
      ]
    },
    {
      "cell_type": "markdown",
      "metadata": {
        "id": "YrKv1ebAVAkD"
      },
      "source": [
        "Get our Dataset "
      ]
    },
    {
      "cell_type": "code",
      "metadata": {
        "id": "uJSHORhoR5mQ"
      },
      "source": [
        "# use train_image instead it x_train has been previously loaded\n",
        "y_train = pd.read_csv('train_y.csv')\n",
        "#discard the Id column from the np array we dont need it\n",
        "y_train = y_train[\"Label\"]\n",
        "x_test = np.load('test_x.npy')\n",
        "# the batch picture generator only takes in categorical tuple data for some reason so we will do this\n",
        "y_train = to_categorical(y_train)"
      ],
      "execution_count": 127,
      "outputs": []
    },
    {
      "cell_type": "code",
      "metadata": {
        "id": "YTsknAqlt3C5"
      },
      "source": [
        "x_test_sample= train_images[:-100]\n",
        "y_test_sample = y_train[:-100]\n",
        "train_images = train_images[-100:]\n",
        "y_train = y_train[-100:]"
      ],
      "execution_count": 128,
      "outputs": []
    },
    {
      "cell_type": "markdown",
      "metadata": {
        "id": "ET_VJDG4YKMZ"
      },
      "source": [
        "Data augmentation and put them together in graysacle and horizontally"
      ]
    },
    {
      "cell_type": "code",
      "metadata": {
        "id": "Rc48hMIGYL3y"
      },
      "source": [
        "from google.colab.patches import cv2_imshow\n",
        "from scipy import ndimage\n",
        "def data_process(image):\n",
        "  processed = (image > 210) * 255\n",
        "  #cv2_imshow(processed)\n",
        "  processed = ndimage.median_filter(processed, size=2)\n",
        "  #cv2_imshow(processed)\n",
        "  return processed"
      ],
      "execution_count": 129,
      "outputs": []
    },
    {
      "cell_type": "markdown",
      "metadata": {
        "id": "e8Wu39fhdB6E"
      },
      "source": [
        "**Conversion**"
      ]
    },
    {
      "cell_type": "code",
      "metadata": {
        "id": "SXJU61AmdE4n"
      },
      "source": [
        "for image in train_images:\n",
        "  image = data_process(image)\n",
        "for image in x_test_sample:\n",
        "  image = data_process(image)"
      ],
      "execution_count": 130,
      "outputs": []
    },
    {
      "cell_type": "code",
      "metadata": {
        "id": "HRtJDhVXdhr0"
      },
      "source": [
        "train_images = train_images.reshape(train_images.shape[0], train_images.shape[1], train_images.shape[2], 1)\n",
        "x_test_sample = np.expand_dims(x_test_sample, axis=-1)\n",
        "x_test = x_test.reshape(x_test.shape[0], x_test.shape[1], x_test.shape[2], 1)"
      ],
      "execution_count": 131,
      "outputs": []
    },
    {
      "cell_type": "markdown",
      "metadata": {
        "id": "Exy5ubPIWFwT"
      },
      "source": [
        "Split training dataset into training and validation dataset"
      ]
    },
    {
      "cell_type": "code",
      "metadata": {
        "id": "Hg6sxOuvTi9X"
      },
      "source": [
        "X_train, X_val, Y_train, Y_val = train_test_split(train_images, y_train, test_size=0.1)"
      ],
      "execution_count": 132,
      "outputs": []
    },
    {
      "cell_type": "markdown",
      "metadata": {
        "id": "78UZdI8DTGG2"
      },
      "source": [
        "CNN network"
      ]
    },
    {
      "cell_type": "code",
      "metadata": {
        "id": "Vdor6y_RTJTv",
        "colab": {
          "base_uri": "https://localhost:8080/"
        },
        "outputId": "04944c85-c949-4512-fd85-308d2c9b619a"
      },
      "source": [
        "model = Sequential()\n",
        "model.add(Conv2D(32, kernel_size=(3, 3),\n",
        "        activation='relu',\n",
        "        input_shape=(128,128,1)))\n",
        "model.add(Dropout(0.2))\n",
        "model.add(Conv2D(32, (3, 3), activation='relu', padding='same'))\n",
        "model.add(MaxPooling2D(pool_size=(2, 2)))\n",
        "model.add(Conv2D(64, (3, 3), activation='relu', padding='same'))\n",
        "model.add(Dropout(0.2))\n",
        "model.add(Conv2D(64, (3, 3), activation='relu', padding='same'))\n",
        "model.add(MaxPooling2D(pool_size=(2, 2)))\n",
        "model.add(Conv2D(128, (3, 3), activation='relu', padding='same'))\n",
        "model.add(Dropout(0.2))\n",
        "model.add(Conv2D(128, (3, 3), activation='relu', padding='same'))\n",
        "model.add(MaxPooling2D(pool_size=(2, 2)))\n",
        "model.add(Flatten())\n",
        "model.add(Dropout(0.25))\n",
        "model.add(Dense(512, activation='relu'))\n",
        "model.add(Dropout(0.25))\n",
        "model.add(Dense(256, activation='relu'))\n",
        "model.add(Dropout(0.25))\n",
        "model.add(Dense(10, activation='softmax'))\n",
        "\n",
        "model.summary()"
      ],
      "execution_count": 149,
      "outputs": [
        {
          "output_type": "stream",
          "text": [
            "Model: \"sequential_14\"\n",
            "_________________________________________________________________\n",
            "Layer (type)                 Output Shape              Param #   \n",
            "=================================================================\n",
            "conv2d_54 (Conv2D)           (None, 126, 126, 32)      320       \n",
            "_________________________________________________________________\n",
            "dropout_26 (Dropout)         (None, 126, 126, 32)      0         \n",
            "_________________________________________________________________\n",
            "conv2d_55 (Conv2D)           (None, 126, 126, 32)      9248      \n",
            "_________________________________________________________________\n",
            "max_pooling2d_18 (MaxPooling (None, 63, 63, 32)        0         \n",
            "_________________________________________________________________\n",
            "conv2d_56 (Conv2D)           (None, 63, 63, 64)        18496     \n",
            "_________________________________________________________________\n",
            "dropout_27 (Dropout)         (None, 63, 63, 64)        0         \n",
            "_________________________________________________________________\n",
            "conv2d_57 (Conv2D)           (None, 63, 63, 64)        36928     \n",
            "_________________________________________________________________\n",
            "max_pooling2d_19 (MaxPooling (None, 31, 31, 64)        0         \n",
            "_________________________________________________________________\n",
            "conv2d_58 (Conv2D)           (None, 31, 31, 128)       73856     \n",
            "_________________________________________________________________\n",
            "dropout_28 (Dropout)         (None, 31, 31, 128)       0         \n",
            "_________________________________________________________________\n",
            "conv2d_59 (Conv2D)           (None, 31, 31, 128)       147584    \n",
            "_________________________________________________________________\n",
            "max_pooling2d_20 (MaxPooling (None, 15, 15, 128)       0         \n",
            "_________________________________________________________________\n",
            "flatten_11 (Flatten)         (None, 28800)             0         \n",
            "_________________________________________________________________\n",
            "dropout_29 (Dropout)         (None, 28800)             0         \n",
            "_________________________________________________________________\n",
            "dense_24 (Dense)             (None, 512)               14746112  \n",
            "_________________________________________________________________\n",
            "dropout_30 (Dropout)         (None, 512)               0         \n",
            "_________________________________________________________________\n",
            "dense_25 (Dense)             (None, 256)               131328    \n",
            "_________________________________________________________________\n",
            "dropout_31 (Dropout)         (None, 256)               0         \n",
            "_________________________________________________________________\n",
            "dense_26 (Dense)             (None, 10)                2570      \n",
            "=================================================================\n",
            "Total params: 15,166,442\n",
            "Trainable params: 15,166,442\n",
            "Non-trainable params: 0\n",
            "_________________________________________________________________\n"
          ],
          "name": "stdout"
        }
      ]
    },
    {
      "cell_type": "code",
      "metadata": {
        "id": "xi5tUDWBXVh2",
        "colab": {
          "base_uri": "https://localhost:8080/"
        },
        "outputId": "6afc3e69-0397-4157-e404-80b16dedecd5"
      },
      "source": [
        "model.compile(loss=\"categorical_crossentropy\",\n",
        "\t\t\t\t  optimizer=Adadelta(),\n",
        "\t\t\t\t  metrics=['accuracy'])\n",
        "\n",
        "history = model.fit(X_train, Y_train, epochs=25, validation_data=(X_val, Y_val))"
      ],
      "execution_count": 150,
      "outputs": [
        {
          "output_type": "stream",
          "text": [
            "Epoch 1/25\n",
            "3/3 [==============================] - 1s 248ms/step - loss: 20.0950 - accuracy: 0.0889 - val_loss: 6.1493 - val_accuracy: 0.0000e+00\n",
            "Epoch 2/25\n",
            "3/3 [==============================] - 0s 46ms/step - loss: 16.6511 - accuracy: 0.1111 - val_loss: 5.4779 - val_accuracy: 0.1000\n",
            "Epoch 3/25\n",
            "3/3 [==============================] - 0s 47ms/step - loss: 15.8314 - accuracy: 0.0778 - val_loss: 4.9479 - val_accuracy: 0.1000\n",
            "Epoch 4/25\n",
            "3/3 [==============================] - 0s 46ms/step - loss: 16.4358 - accuracy: 0.0667 - val_loss: 4.5772 - val_accuracy: 0.1000\n",
            "Epoch 5/25\n",
            "3/3 [==============================] - 0s 47ms/step - loss: 15.7582 - accuracy: 0.1333 - val_loss: 4.2662 - val_accuracy: 0.1000\n",
            "Epoch 6/25\n",
            "3/3 [==============================] - 0s 47ms/step - loss: 15.0909 - accuracy: 0.0667 - val_loss: 4.1101 - val_accuracy: 0.1000\n",
            "Epoch 7/25\n",
            "3/3 [==============================] - 0s 48ms/step - loss: 13.5309 - accuracy: 0.1444 - val_loss: 3.7825 - val_accuracy: 0.2000\n",
            "Epoch 8/25\n",
            "3/3 [==============================] - 0s 47ms/step - loss: 13.7476 - accuracy: 0.1000 - val_loss: 3.6522 - val_accuracy: 0.2000\n",
            "Epoch 9/25\n",
            "3/3 [==============================] - 0s 47ms/step - loss: 12.0190 - accuracy: 0.1444 - val_loss: 3.3838 - val_accuracy: 0.3000\n",
            "Epoch 10/25\n",
            "3/3 [==============================] - 0s 47ms/step - loss: 12.5918 - accuracy: 0.1444 - val_loss: 3.1990 - val_accuracy: 0.3000\n",
            "Epoch 11/25\n",
            "3/3 [==============================] - 0s 47ms/step - loss: 10.8666 - accuracy: 0.1778 - val_loss: 3.1251 - val_accuracy: 0.3000\n",
            "Epoch 12/25\n",
            "3/3 [==============================] - 0s 50ms/step - loss: 11.9504 - accuracy: 0.1778 - val_loss: 3.0713 - val_accuracy: 0.2000\n",
            "Epoch 13/25\n",
            "3/3 [==============================] - 0s 47ms/step - loss: 10.2105 - accuracy: 0.2222 - val_loss: 2.9381 - val_accuracy: 0.3000\n",
            "Epoch 14/25\n",
            "3/3 [==============================] - 0s 48ms/step - loss: 11.4580 - accuracy: 0.1111 - val_loss: 3.0061 - val_accuracy: 0.3000\n",
            "Epoch 15/25\n",
            "3/3 [==============================] - 0s 48ms/step - loss: 11.7777 - accuracy: 0.1333 - val_loss: 3.1561 - val_accuracy: 0.3000\n",
            "Epoch 16/25\n",
            "3/3 [==============================] - 0s 47ms/step - loss: 10.2657 - accuracy: 0.2111 - val_loss: 3.1787 - val_accuracy: 0.3000\n",
            "Epoch 17/25\n",
            "3/3 [==============================] - 0s 48ms/step - loss: 9.2640 - accuracy: 0.2111 - val_loss: 3.2034 - val_accuracy: 0.3000\n",
            "Epoch 18/25\n",
            "3/3 [==============================] - 0s 47ms/step - loss: 10.0461 - accuracy: 0.1889 - val_loss: 3.2958 - val_accuracy: 0.2000\n",
            "Epoch 19/25\n",
            "3/3 [==============================] - 0s 48ms/step - loss: 8.2135 - accuracy: 0.2333 - val_loss: 3.2036 - val_accuracy: 0.2000\n",
            "Epoch 20/25\n",
            "3/3 [==============================] - 0s 47ms/step - loss: 9.3631 - accuracy: 0.2111 - val_loss: 3.3183 - val_accuracy: 0.0000e+00\n",
            "Epoch 21/25\n",
            "3/3 [==============================] - 0s 46ms/step - loss: 10.7722 - accuracy: 0.1222 - val_loss: 3.4567 - val_accuracy: 0.0000e+00\n",
            "Epoch 22/25\n",
            "3/3 [==============================] - 0s 48ms/step - loss: 9.5234 - accuracy: 0.1556 - val_loss: 3.4898 - val_accuracy: 0.0000e+00\n",
            "Epoch 23/25\n",
            "3/3 [==============================] - 0s 47ms/step - loss: 9.1118 - accuracy: 0.1667 - val_loss: 3.5574 - val_accuracy: 0.0000e+00\n",
            "Epoch 24/25\n",
            "3/3 [==============================] - 0s 47ms/step - loss: 8.0890 - accuracy: 0.1778 - val_loss: 3.5132 - val_accuracy: 0.0000e+00\n",
            "Epoch 25/25\n",
            "3/3 [==============================] - 0s 52ms/step - loss: 8.6923 - accuracy: 0.1667 - val_loss: 3.4992 - val_accuracy: 0.0000e+00\n"
          ],
          "name": "stdout"
        }
      ]
    },
    {
      "cell_type": "code",
      "metadata": {
        "id": "BbX5q8fa0mJj",
        "colab": {
          "base_uri": "https://localhost:8080/",
          "height": 279
        },
        "outputId": "dccf03a4-219d-4dd2-9870-0794277cd890"
      },
      "source": [
        "plt.plot(history.history[\"accuracy\"], label=\"accuracy\")\n",
        "plt.plot(history.history[\"val_accuracy\"], label=\"val_accuracy\")\n",
        "plt.xlabel('Epoch')\n",
        "plt.ylabel('Accuracy')\n",
        "plt.legend(loc='lower right')\n",
        "plt.show()"
      ],
      "execution_count": 135,
      "outputs": [
        {
          "output_type": "display_data",
          "data": {
            "image/png": "[encoded data removed]",
            "text/plain": [
              "<Figure size 432x288 with 1 Axes>"
            ]
          },
          "metadata": {
            "tags": [],
            "needs_background": "light"
          }
        }
      ]
    },
    {
      "cell_type": "code",
      "metadata": {
        "id": "HUs6GuvYu9SU"
      },
      "source": [
        "datagen = ImageDataGenerator(\n",
        "    rotation_range=20,\n",
        "    zoom_range = 0.2,\n",
        "    width_shift_range = 0.2,\n",
        "    height_shift_range = 0.2,\n",
        "    shear_range = 0.15\n",
        ")\n",
        "datagen.fit(X_train)"
      ],
      "execution_count": 102,
      "outputs": []
    },
    {
      "cell_type": "code",
      "metadata": {
        "colab": {
          "base_uri": "https://localhost:8080/"
        },
        "id": "u5qpUJmMvM8V",
        "outputId": "6f7baca3-687a-45b0-cb1f-b8c0c5267955"
      },
      "source": [
        "model2 = Sequential()\n",
        "    \n",
        "model2.add(Conv2D(32, kernel_size=(3, 3), padding=\"same\", activation='relu', input_shape=(128, 128, 1)))\n",
        "model2.add(Conv2D(32, kernel_size=(3, 3), padding=\"same\", activation='relu'))\n",
        "model2.add(Conv2D(32, kernel_size=(3, 3), padding=\"same\", activation='relu'))\n",
        "model2.add(BatchNormalization())\n",
        "model2.add(MaxPool2D(pool_size=(2, 2)))\n",
        "model2.add(Dropout(0.2))\n",
        "\n",
        "model2.add(Conv2D(64, kernel_size=(3, 3), padding=\"same\", activation='relu'))\n",
        "model2.add(Conv2D(64, kernel_size=(3, 3), padding=\"same\", activation='relu'))\n",
        "model2.add(Conv2D(64, kernel_size=(3, 3), padding=\"same\", activation='relu'))\n",
        "model2.add(BatchNormalization())\n",
        "model2.add(MaxPool2D(pool_size=(2, 2)))\n",
        "model2.add(Dropout(0.2))\n",
        "\n",
        "model2.add(Conv2D(128, kernel_size=(3, 3), padding=\"same\", activation='relu'))\n",
        "model2.add(Conv2D(128, kernel_size=(3, 3), padding=\"same\", activation='relu'))\n",
        "model2.add(Conv2D(128, kernel_size=(3, 3), padding=\"same\", activation='relu'))\n",
        "model2.add(BatchNormalization())\n",
        "model2.add(MaxPool2D(pool_size=(2, 2)))\n",
        "model2.add(Dropout(0.2))\n",
        "\n",
        "model2.add(Conv2D(256, kernel_size=(3, 3), padding=\"same\", activation='relu'))\n",
        "model2.add(Conv2D(256, kernel_size=(3, 3), padding=\"same\", activation='relu'))\n",
        "model2.add(Conv2D(256, kernel_size=(3, 3), padding=\"same\", activation='relu'))\n",
        "model2.add(BatchNormalization())\n",
        "model2.add(MaxPool2D(pool_size=(2, 2)))\n",
        "model2.add(Dropout(0.2))\n",
        "\n",
        "model2.add(Flatten())\n",
        "model2.add(Dense(512, activation='relu'))\n",
        "model2.add(Dense(512, activation='relu'))\n",
        "model2.add(Dropout(0.5))\n",
        "model2.add(Dense(10, activation='softmax'))\n",
        "\n",
        "model2.summary()"
      ],
      "execution_count": 103,
      "outputs": [
        {
          "output_type": "stream",
          "text": [
            "Model: \"sequential_1\"\n",
            "_________________________________________________________________\n",
            "Layer (type)                 Output Shape              Param #   \n",
            "=================================================================\n",
            "conv2d_12 (Conv2D)           (None, 128, 128, 32)      320       \n",
            "_________________________________________________________________\n",
            "conv2d_13 (Conv2D)           (None, 128, 128, 32)      9248      \n",
            "_________________________________________________________________\n",
            "conv2d_14 (Conv2D)           (None, 128, 128, 32)      9248      \n",
            "_________________________________________________________________\n",
            "batch_normalization_4 (Batch (None, 128, 128, 32)      128       \n",
            "_________________________________________________________________\n",
            "max_pooling2d_4 (MaxPooling2 (None, 64, 64, 32)        0         \n",
            "_________________________________________________________________\n",
            "dropout_5 (Dropout)          (None, 64, 64, 32)        0         \n",
            "_________________________________________________________________\n",
            "conv2d_15 (Conv2D)           (None, 64, 64, 64)        18496     \n",
            "_________________________________________________________________\n",
            "conv2d_16 (Conv2D)           (None, 64, 64, 64)        36928     \n",
            "_________________________________________________________________\n",
            "conv2d_17 (Conv2D)           (None, 64, 64, 64)        36928     \n",
            "_________________________________________________________________\n",
            "batch_normalization_5 (Batch (None, 64, 64, 64)        256       \n",
            "_________________________________________________________________\n",
            "max_pooling2d_5 (MaxPooling2 (None, 32, 32, 64)        0         \n",
            "_________________________________________________________________\n",
            "dropout_6 (Dropout)          (None, 32, 32, 64)        0         \n",
            "_________________________________________________________________\n",
            "conv2d_18 (Conv2D)           (None, 32, 32, 128)       73856     \n",
            "_________________________________________________________________\n",
            "conv2d_19 (Conv2D)           (None, 32, 32, 128)       147584    \n",
            "_________________________________________________________________\n",
            "conv2d_20 (Conv2D)           (None, 32, 32, 128)       147584    \n",
            "_________________________________________________________________\n",
            "batch_normalization_6 (Batch (None, 32, 32, 128)       512       \n",
            "_________________________________________________________________\n",
            "max_pooling2d_6 (MaxPooling2 (None, 16, 16, 128)       0         \n",
            "_________________________________________________________________\n",
            "dropout_7 (Dropout)          (None, 16, 16, 128)       0         \n",
            "_________________________________________________________________\n",
            "conv2d_21 (Conv2D)           (None, 16, 16, 256)       295168    \n",
            "_________________________________________________________________\n",
            "conv2d_22 (Conv2D)           (None, 16, 16, 256)       590080    \n",
            "_________________________________________________________________\n",
            "conv2d_23 (Conv2D)           (None, 16, 16, 256)       590080    \n",
            "_________________________________________________________________\n",
            "batch_normalization_7 (Batch (None, 16, 16, 256)       1024      \n",
            "_________________________________________________________________\n",
            "max_pooling2d_7 (MaxPooling2 (None, 8, 8, 256)         0         \n",
            "_________________________________________________________________\n",
            "dropout_8 (Dropout)          (None, 8, 8, 256)         0         \n",
            "_________________________________________________________________\n",
            "flatten_1 (Flatten)          (None, 16384)             0         \n",
            "_________________________________________________________________\n",
            "dense_3 (Dense)              (None, 512)               8389120   \n",
            "_________________________________________________________________\n",
            "dense_4 (Dense)              (None, 512)               262656    \n",
            "_________________________________________________________________\n",
            "dropout_9 (Dropout)          (None, 512)               0         \n",
            "_________________________________________________________________\n",
            "dense_5 (Dense)              (None, 10)                5130      \n",
            "=================================================================\n",
            "Total params: 10,614,346\n",
            "Trainable params: 10,613,386\n",
            "Non-trainable params: 960\n",
            "_________________________________________________________________\n"
          ],
          "name": "stdout"
        }
      ]
    },
    {
      "cell_type": "code",
      "metadata": {
        "colab": {
          "base_uri": "https://localhost:8080/"
        },
        "id": "eGwog3RvvHW0",
        "outputId": "0dd1bac0-e039-427a-bfcc-6f32a8b4d70a"
      },
      "source": [
        "model2.compile(loss=\"categorical_crossentropy\", optimizer=RMSprop(), metrics=['accuracy'])\n",
        "history2 = model2.fit_generator(datagen.flow(X_train, Y_train, batch_size=200), validation_data=(X_val, Y_val), epochs=30)"
      ],
      "execution_count": 105,
      "outputs": [
        {
          "output_type": "stream",
          "text": [
            "Epoch 1/30\n",
            "1/1 [==============================] - 0s 375ms/step - loss: 4.0943 - accuracy: 0.0778 - val_loss: 169.1661 - val_accuracy: 0.4000\n",
            "Epoch 2/30\n",
            "1/1 [==============================] - 0s 165ms/step - loss: 27.5130 - accuracy: 0.2222 - val_loss: 21779.4004 - val_accuracy: 0.1000\n",
            "Epoch 3/30\n",
            "1/1 [==============================] - 0s 167ms/step - loss: 35.3479 - accuracy: 0.2222 - val_loss: 36157.5742 - val_accuracy: 0.1000\n",
            "Epoch 4/30\n",
            "1/1 [==============================] - 0s 164ms/step - loss: 23.8347 - accuracy: 0.2000 - val_loss: 14699.6660 - val_accuracy: 0.1000\n",
            "Epoch 5/30\n",
            "1/1 [==============================] - 0s 165ms/step - loss: 22.9558 - accuracy: 0.2333 - val_loss: 38992.1797 - val_accuracy: 0.4000\n",
            "Epoch 6/30\n",
            "1/1 [==============================] - 0s 165ms/step - loss: 15.2767 - accuracy: 0.1889 - val_loss: 71560.5156 - val_accuracy: 0.1000\n",
            "Epoch 7/30\n",
            "1/1 [==============================] - 0s 161ms/step - loss: 9.5012 - accuracy: 0.1889 - val_loss: 23398.4121 - val_accuracy: 0.2000\n",
            "Epoch 8/30\n",
            "1/1 [==============================] - 0s 170ms/step - loss: 6.0779 - accuracy: 0.2333 - val_loss: 14177.9717 - val_accuracy: 0.1000\n",
            "Epoch 9/30\n",
            "1/1 [==============================] - 0s 163ms/step - loss: 5.5351 - accuracy: 0.3111 - val_loss: 12813.5762 - val_accuracy: 0.2000\n",
            "Epoch 10/30\n",
            "1/1 [==============================] - 0s 170ms/step - loss: 5.4341 - accuracy: 0.2889 - val_loss: 2278.7668 - val_accuracy: 0.1000\n",
            "Epoch 11/30\n",
            "1/1 [==============================] - 0s 170ms/step - loss: 4.0177 - accuracy: 0.3000 - val_loss: 3451.8169 - val_accuracy: 0.2000\n",
            "Epoch 12/30\n",
            "1/1 [==============================] - 0s 169ms/step - loss: 2.9552 - accuracy: 0.2778 - val_loss: 1924.7703 - val_accuracy: 0.1000\n",
            "Epoch 13/30\n",
            "1/1 [==============================] - 0s 165ms/step - loss: 2.4375 - accuracy: 0.4000 - val_loss: 2309.3770 - val_accuracy: 0.2000\n",
            "Epoch 14/30\n",
            "1/1 [==============================] - 0s 170ms/step - loss: 2.7526 - accuracy: 0.2667 - val_loss: 2623.2644 - val_accuracy: 0.2000\n",
            "Epoch 15/30\n",
            "1/1 [==============================] - 0s 167ms/step - loss: 2.6958 - accuracy: 0.3667 - val_loss: 1607.8704 - val_accuracy: 0.1000\n",
            "Epoch 16/30\n",
            "1/1 [==============================] - 0s 163ms/step - loss: 2.6895 - accuracy: 0.3667 - val_loss: 1120.4575 - val_accuracy: 0.2000\n",
            "Epoch 17/30\n",
            "1/1 [==============================] - 0s 164ms/step - loss: 2.6725 - accuracy: 0.2556 - val_loss: 1365.0803 - val_accuracy: 0.1000\n",
            "Epoch 18/30\n",
            "1/1 [==============================] - 0s 163ms/step - loss: 2.4284 - accuracy: 0.2778 - val_loss: 706.4596 - val_accuracy: 0.2000\n",
            "Epoch 19/30\n",
            "1/1 [==============================] - 0s 165ms/step - loss: 2.2470 - accuracy: 0.2444 - val_loss: 1115.3523 - val_accuracy: 0.1000\n",
            "Epoch 20/30\n",
            "1/1 [==============================] - 0s 169ms/step - loss: 2.4435 - accuracy: 0.2778 - val_loss: 1079.6256 - val_accuracy: 0.1000\n",
            "Epoch 21/30\n",
            "1/1 [==============================] - 0s 165ms/step - loss: 2.1971 - accuracy: 0.3333 - val_loss: 527.3833 - val_accuracy: 0.1000\n",
            "Epoch 22/30\n",
            "1/1 [==============================] - 0s 161ms/step - loss: 2.2635 - accuracy: 0.3667 - val_loss: 833.6881 - val_accuracy: 0.1000\n",
            "Epoch 23/30\n",
            "1/1 [==============================] - 0s 171ms/step - loss: 2.3077 - accuracy: 0.2778 - val_loss: 440.4182 - val_accuracy: 0.2000\n",
            "Epoch 24/30\n",
            "1/1 [==============================] - 0s 165ms/step - loss: 2.4172 - accuracy: 0.3778 - val_loss: 1087.9968 - val_accuracy: 0.2000\n",
            "Epoch 25/30\n",
            "1/1 [==============================] - 0s 167ms/step - loss: 2.0496 - accuracy: 0.3444 - val_loss: 750.2656 - val_accuracy: 0.2000\n",
            "Epoch 26/30\n",
            "1/1 [==============================] - 0s 166ms/step - loss: 1.7982 - accuracy: 0.3667 - val_loss: 680.7361 - val_accuracy: 0.1000\n",
            "Epoch 27/30\n",
            "1/1 [==============================] - 0s 165ms/step - loss: 2.2160 - accuracy: 0.3000 - val_loss: 743.0962 - val_accuracy: 0.2000\n",
            "Epoch 28/30\n",
            "1/1 [==============================] - 0s 166ms/step - loss: 1.9884 - accuracy: 0.4111 - val_loss: 647.3712 - val_accuracy: 0.1000\n",
            "Epoch 29/30\n",
            "1/1 [==============================] - 0s 168ms/step - loss: 1.9404 - accuracy: 0.3333 - val_loss: 579.1073 - val_accuracy: 0.2000\n",
            "Epoch 30/30\n",
            "1/1 [==============================] - 0s 167ms/step - loss: 2.0114 - accuracy: 0.3778 - val_loss: 480.1912 - val_accuracy: 0.1000\n"
          ],
          "name": "stdout"
        }
      ]
    },
    {
      "cell_type": "code",
      "metadata": {
        "colab": {
          "base_uri": "https://localhost:8080/",
          "height": 279
        },
        "id": "WowdHVDUwD35",
        "outputId": "edfce600-d258-4762-b244-23a6c34e75b0"
      },
      "source": [
        "plt.plot(history2.history[\"accuracy\"], label=\"accuracy\")\n",
        "plt.plot(history2.history[\"val_accuracy\"], label=\"val_accuracy\")\n",
        "plt.xlabel('Epoch')\n",
        "plt.ylabel('Accuracy')\n",
        "plt.legend(loc='lower right')\n",
        "plt.show()"
      ],
      "execution_count": 106,
      "outputs": [
        {
          "output_type": "display_data",
          "data": {
            "image/png": "[encoded data removed]",
            "text/plain": [
              "<Figure size 432x288 with 1 Axes>"
            ]
          },
          "metadata": {
            "tags": [],
            "needs_background": "light"
          }
        }
      ]
    },
    {
      "cell_type": "markdown",
      "metadata": {
        "id": "UcV4nQ6RuKpV"
      },
      "source": [
        "Predicting the results"
      ]
    },
    {
      "cell_type": "code",
      "metadata": {
        "id": "fbCxOqx5uM6M"
      },
      "source": [
        "labels_probabilities = model.predict(x_test)\n",
        "labels = np.argmax(labels_probabilities, axis=1)\n",
        "print(labels)"
      ],
      "execution_count": null,
      "outputs": []
    },
    {
      "cell_type": "markdown",
      "metadata": {
        "id": "1OKFvNqP1n8p"
      },
      "source": [
        "See the predictions"
      ]
    },
    {
      "cell_type": "code",
      "metadata": {
        "id": "Qsq24XLIxS68"
      },
      "source": [
        "for i in labels:\n",
        "  print(i)"
      ],
      "execution_count": null,
      "outputs": []
    },
    {
      "cell_type": "markdown",
      "metadata": {
        "id": "hfdxez8Z2Xbk"
      },
      "source": [
        "Put in CSV"
      ]
    },
    {
      "cell_type": "code",
      "metadata": {
        "id": "8cMFagzC17dT"
      },
      "source": [
        "ids = [i for i in range(len(labels))]\n",
        "ids = np.array(ids)\n",
        "df = pd.DataFrame({'Id':ids, 'Label': labels})\n",
        "df.to_csv('prediction.csv', index=False)"
      ],
      "execution_count": null,
      "outputs": []
    }
  ]
}
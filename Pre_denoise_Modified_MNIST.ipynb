{
  "nbformat": 4,
  "nbformat_minor": 0,
  "metadata": {
    "colab": {
      "name": "Pre-denoise Modified_MNIST.ipynb",
      "provenance": [],
      "collapsed_sections": [],
      "include_colab_link": true
    },
    "kernelspec": {
      "name": "python3",
      "display_name": "Python 3"
    },
    "accelerator": "GPU"
  },
  "cells": [
    {
      "cell_type": "markdown",
      "metadata": {
        "id": "view-in-github",
        "colab_type": "text"
      },
      "source": [
        "<a href=\"https://colab.research.google.com/github/codeavenger456/MNIST_Max-digits/blob/main/Pre_denoise_Modified_MNIST.ipynb\" target=\"_parent\"><img src=\"https://colab.research.google.com/assets/colab-badge.svg\" alt=\"Open In Colab\"/></a>"
      ]
    },
    {
      "cell_type": "code",
      "metadata": {
        "id": "ahUCbSBRMGgt",
        "colab": {
          "base_uri": "https://localhost:8080/"
        },
        "outputId": "1ec0a763-3e70-4d56-9d01-a95f2573a24c"
      },
      "source": [
        "pip install kaggle"
      ],
      "execution_count": 1,
      "outputs": [
        {
          "output_type": "stream",
          "text": [
            "Requirement already satisfied: kaggle in /usr/local/lib/python3.6/dist-packages (1.5.9)\n",
            "Requirement already satisfied: urllib3 in /usr/local/lib/python3.6/dist-packages (from kaggle) (1.24.3)\n",
            "Requirement already satisfied: six>=1.10 in /usr/local/lib/python3.6/dist-packages (from kaggle) (1.15.0)\n",
            "Requirement already satisfied: python-dateutil in /usr/local/lib/python3.6/dist-packages (from kaggle) (2.8.1)\n",
            "Requirement already satisfied: slugify in /usr/local/lib/python3.6/dist-packages (from kaggle) (0.0.1)\n",
            "Requirement already satisfied: requests in /usr/local/lib/python3.6/dist-packages (from kaggle) (2.23.0)\n",
            "Requirement already satisfied: tqdm in /usr/local/lib/python3.6/dist-packages (from kaggle) (4.41.1)\n",
            "Requirement already satisfied: certifi in /usr/local/lib/python3.6/dist-packages (from kaggle) (2020.11.8)\n",
            "Requirement already satisfied: python-slugify in /usr/local/lib/python3.6/dist-packages (from kaggle) (4.0.1)\n",
            "Requirement already satisfied: chardet<4,>=3.0.2 in /usr/local/lib/python3.6/dist-packages (from requests->kaggle) (3.0.4)\n",
            "Requirement already satisfied: idna<3,>=2.5 in /usr/local/lib/python3.6/dist-packages (from requests->kaggle) (2.10)\n",
            "Requirement already satisfied: text-unidecode>=1.3 in /usr/local/lib/python3.6/dist-packages (from python-slugify->kaggle) (1.3)\n"
          ],
          "name": "stdout"
        }
      ]
    },
    {
      "cell_type": "code",
      "metadata": {
        "id": "4TnAZKz_Lwyh",
        "colab": {
          "resources": {
            "http://localhost:8080/nbextensions/google.colab/files.js": {
              "data": "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",
              "ok": true,
              "headers": [
                [
                  "content-type",
                  "application/javascript"
                ]
              ],
              "status": 200,
              "status_text": ""
            }
          },
          "base_uri": "https://localhost:8080/",
          "height": 89
        },
        "outputId": "f4564381-fe09-4864-ca58-63a3c58cee2e"
      },
      "source": [
        "from google.colab import files\n",
        "\n",
        "uploaded = files.upload()\n",
        "\n",
        "for fn in uploaded.keys():\n",
        "  print('User uploaded file \"{name}\" with length {length} bytes'.format(\n",
        "      name=fn, length=len(uploaded[fn])))\n",
        "  \n",
        "# Then move kaggle.json into the folder where the API expects to find it.\n",
        "!mkdir -p ~/.kaggle/ && mv kaggle.json ~/.kaggle/ && chmod 600 ~/.kaggle/kaggle.json"
      ],
      "execution_count": 2,
      "outputs": [
        {
          "output_type": "display_data",
          "data": {
            "text/html": [
              "\n",
              "     <input type=\"file\" id=\"files-d173ec80-3547-4b1c-afdb-047472323451\" name=\"files[]\" multiple disabled\n",
              "        style=\"border:none\" />\n",
              "     <output id=\"result-d173ec80-3547-4b1c-afdb-047472323451\">\n",
              "      Upload widget is only available when the cell has been executed in the\n",
              "      current browser session. Please rerun this cell to enable.\n",
              "      </output>\n",
              "      <script src=\"/nbextensions/google.colab/files.js\"></script> "
            ],
            "text/plain": [
              "<IPython.core.display.HTML object>"
            ]
          },
          "metadata": {
            "tags": []
          }
        },
        {
          "output_type": "stream",
          "text": [
            "Saving kaggle.json to kaggle.json\n",
            "User uploaded file \"kaggle.json\" with length 67 bytes\n"
          ],
          "name": "stdout"
        }
      ]
    },
    {
      "cell_type": "code",
      "metadata": {
        "id": "6hjEUJDFMQL-",
        "colab": {
          "base_uri": "https://localhost:8080/"
        },
        "outputId": "32e4f864-bfc8-4851-9097-6873486fb95f"
      },
      "source": [
        "! kaggle competitions download -c mais-202-fall-2020-kaggle-competition"
      ],
      "execution_count": 3,
      "outputs": [
        {
          "output_type": "stream",
          "text": [
            "Warning: Looks like you're using an outdated API Version, please consider updating (server 1.5.9 / client 1.5.4)\n",
            "Downloading train_x.npy.zip to /content\n",
            "100% 783M/784M [00:03<00:00, 197MB/s]\n",
            "100% 784M/784M [00:03<00:00, 215MB/s]\n",
            "Downloading test_x.npy.zip to /content\n",
            " 97% 191M/196M [00:00<00:00, 197MB/s]\n",
            "100% 196M/196M [00:00<00:00, 208MB/s]\n",
            "Downloading train_y.csv to /content\n",
            "  0% 0.00/341k [00:00<?, ?B/s]\n",
            "100% 341k/341k [00:00<00:00, 109MB/s]\n"
          ],
          "name": "stdout"
        }
      ]
    },
    {
      "cell_type": "code",
      "metadata": {
        "id": "W7do-etQMQW6",
        "colab": {
          "base_uri": "https://localhost:8080/"
        },
        "outputId": "e88c4179-1bb2-4e84-c491-d4096706cd0d"
      },
      "source": [
        "! unzip train_x.npy.zip\n",
        "! unzip test_x.npy.zip"
      ],
      "execution_count": 4,
      "outputs": [
        {
          "output_type": "stream",
          "text": [
            "Archive:  train_x.npy.zip\n",
            "  inflating: train_x.npy             \n",
            "Archive:  test_x.npy.zip\n",
            "  inflating: test_x.npy              \n"
          ],
          "name": "stdout"
        }
      ]
    },
    {
      "cell_type": "code",
      "metadata": {
        "id": "Jb6aMplHHb7J"
      },
      "source": [
        "import tensorflow as tf\n",
        "#tf.test.gpu_device_name()"
      ],
      "execution_count": 5,
      "outputs": []
    },
    {
      "cell_type": "code",
      "metadata": {
        "id": "TG3wYjb6MQeT"
      },
      "source": [
        "import numpy as np\n",
        "train_images = np.load(\"train_x.npy\")"
      ],
      "execution_count": 6,
      "outputs": []
    },
    {
      "cell_type": "code",
      "metadata": {
        "id": "BtgY-H16MWg3",
        "colab": {
          "base_uri": "https://localhost:8080/",
          "height": 268
        },
        "outputId": "b9d84cd0-f637-4eea-ed4d-ecc766244dbb"
      },
      "source": [
        "import matplotlib.pyplot as plt\n",
        "\n",
        "def show_image(arr):\n",
        "    two_d = (np.reshape(arr, (128, 128)) * 255).astype(np.uint8)\n",
        "    plt.imshow(two_d, interpolation='nearest')\n",
        "    plt.show()\n",
        "\n",
        "show_image(train_images[0]) # 0 is the index of the training image you want to display"
      ],
      "execution_count": 7,
      "outputs": [
        {
          "output_type": "display_data",
          "data": {
            "image/png": "[encoded data removed]",
            "text/plain": [
              "<Figure size 432x288 with 1 Axes>"
            ]
          },
          "metadata": {
            "tags": [],
            "needs_background": "light"
          }
        }
      ]
    },
    {
      "cell_type": "markdown",
      "metadata": {
        "id": "4RP4embAMb82"
      },
      "source": [
        "Import Libraries "
      ]
    },
    {
      "cell_type": "code",
      "metadata": {
        "id": "eP7Ttml7Mhjh"
      },
      "source": [
        "\n",
        "import cv2\n",
        "import numpy as np\n",
        "import pandas as pd\n",
        "from keras.layers import Dense, Flatten, BatchNormalization, Activation, MaxPool2D, Dropout, Convolution2D, AveragePooling2D, MaxPooling2D\n",
        "from keras.preprocessing.image import ImageDataGenerator\n",
        "from keras.layers.convolutional import Conv2D\n",
        "from keras.models import Sequential\n",
        "from keras.utils import to_categorical\n",
        "from keras.optimizers import RMSprop, Adam\n",
        "import matplotlib.pyplot as plt\n",
        "import copy\n",
        "from sklearn.model_selection import train_test_split\n",
        "from keras.callbacks import ReduceLROnPlateau, LearningRateScheduler"
      ],
      "execution_count": 8,
      "outputs": []
    },
    {
      "cell_type": "markdown",
      "metadata": {
        "id": "4GdNRhL-UDAR"
      },
      "source": [
        "CNN ARCHITECTURE "
      ]
    },
    {
      "cell_type": "markdown",
      "metadata": {
        "id": "YrKv1ebAVAkD"
      },
      "source": [
        "Get our Dataset "
      ]
    },
    {
      "cell_type": "code",
      "metadata": {
        "id": "uJSHORhoR5mQ"
      },
      "source": [
        "\n",
        "# use train_image instead it x_train has been previously loaded\n",
        "y_train = pd.read_csv('train_y.csv')\n",
        "#discard the Id column from the np array we dont need it\n",
        "y_train = y_train[\"Label\"]\n",
        "x_test = np.load('test_x.npy')\n",
        "# the batch picture generator only takes in categorical tuple data for some reason so we will do this\n",
        "y_train = to_categorical(y_train)"
      ],
      "execution_count": 9,
      "outputs": []
    },
    {
      "cell_type": "markdown",
      "metadata": {
        "id": "VSf-F7L7UOxv"
      },
      "source": [
        "Data Augmentation and put them together in grayscale and horizontally"
      ]
    },
    {
      "cell_type": "code",
      "metadata": {
        "id": "8YW0AbaJUU5I"
      },
      "source": [
        "from google.colab.patches import cv2_imshow\n",
        "from scipy import ndimage\n",
        "def data_process(image):\n",
        "  processed = (image > 210) * 255\n",
        "  #cv2_imshow(processed)\n",
        "  processed = ndimage.median_filter(processed, size=2)\n",
        "  #cv2_imshow(processed)\n",
        "  processed = (processed - np.mean(processed) / processed.std())\n",
        "  #cv2_imshow(processed)\n",
        "  return processed"
      ],
      "execution_count": 10,
      "outputs": []
    },
    {
      "cell_type": "markdown",
      "metadata": {
        "id": "CSLwegDCU5v7"
      },
      "source": [
        "Conversion"
      ]
    },
    {
      "cell_type": "code",
      "metadata": {
        "id": "ZR-BbIREU7x3"
      },
      "source": [
        "# Post denoise \n",
        "# for train_pointer in range(len(train_images)):\n",
        "#   train_images[train_pointer] = data_process(train_images[train_pointer])\n",
        "# for test_pointer in range(len(x_test)):\n",
        "#   x_test[test_pointer] = data_process(x_test[test_pointer])"
      ],
      "execution_count": 11,
      "outputs": []
    },
    {
      "cell_type": "code",
      "metadata": {
        "id": "UozaFFFQ-Q5L"
      },
      "source": [
        "for image in train_images:\n",
        "  image = data_process(image)\n",
        "for image in x_test:\n",
        "  image = data_process(image)"
      ],
      "execution_count": 12,
      "outputs": []
    },
    {
      "cell_type": "code",
      "metadata": {
        "id": "HRtJDhVXdhr0"
      },
      "source": [
        "# imagedatagenerator only takes in 4d data so we need to add an extra dimension to our data\n",
        "train_images = train_images.reshape(train_images.shape[0], train_images.shape[1], train_images.shape[2], 1)\n",
        "x_test = x_test.reshape(x_test.shape[0], x_test.shape[1], x_test.shape[2], 1)"
      ],
      "execution_count": 13,
      "outputs": []
    },
    {
      "cell_type": "markdown",
      "metadata": {
        "id": "Exy5ubPIWFwT"
      },
      "source": [
        "Split training dataset into training and validation dataset"
      ]
    },
    {
      "cell_type": "code",
      "metadata": {
        "id": "Hg6sxOuvTi9X"
      },
      "source": [
        "X_train, X_val, Y_train, Y_val = train_test_split(train_images, y_train, test_size=0.1)"
      ],
      "execution_count": 14,
      "outputs": []
    },
    {
      "cell_type": "markdown",
      "metadata": {
        "id": "3Ft0iucDPIry"
      },
      "source": [
        "Data Augmentation by ImageDataGenerator"
      ]
    },
    {
      "cell_type": "code",
      "metadata": {
        "id": "HW6xB3H_Nf_6"
      },
      "source": [
        "datagen = ImageDataGenerator(\n",
        "    rotation_range=27,\n",
        "    zoom_range = 0.2,\n",
        "    width_shift_range = 0.2,\n",
        "    height_shift_range = 0.2,\n",
        "    shear_range = 0.15\n",
        ")\n",
        "datagen.fit(train_images)"
      ],
      "execution_count": 15,
      "outputs": []
    },
    {
      "cell_type": "markdown",
      "metadata": {
        "id": "78UZdI8DTGG2"
      },
      "source": [
        "CNN network"
      ]
    },
    {
      "cell_type": "code",
      "metadata": {
        "colab": {
          "base_uri": "https://localhost:8080/"
        },
        "id": "Vdor6y_RTJTv",
        "outputId": "ab366122-d5ad-4fe3-bce2-02aadc3a7e2e"
      },
      "source": [
        "\n",
        "model = Sequential()\n",
        "    \n",
        "model.add(Conv2D(32, kernel_size=(3, 3), padding=\"same\", activation='relu', input_shape=(128, 128, 1)))\n",
        "model.add(Conv2D(32, kernel_size=(3, 3), padding=\"same\", activation='relu'))\n",
        "model.add(Conv2D(32, kernel_size=(3, 3), padding=\"same\", activation='relu'))\n",
        "model.add(BatchNormalization())\n",
        "model.add(MaxPool2D(pool_size=(2, 2)))\n",
        "model.add(Dropout(0.2))\n",
        "\n",
        "model.add(Conv2D(64, kernel_size=(3, 3), padding=\"same\", activation='relu'))\n",
        "model.add(Conv2D(64, kernel_size=(3, 3), padding=\"same\", activation='relu'))\n",
        "model.add(Conv2D(64, kernel_size=(3, 3), padding=\"same\", activation='relu'))\n",
        "model.add(BatchNormalization())\n",
        "model.add(MaxPool2D(pool_size=(2, 2)))\n",
        "model.add(Dropout(0.2))\n",
        "\n",
        "model.add(Conv2D(128, kernel_size=(3, 3), padding=\"same\", activation='relu'))\n",
        "model.add(Conv2D(128, kernel_size=(3, 3), padding=\"same\", activation='relu'))\n",
        "model.add(Conv2D(128, kernel_size=(3, 3), padding=\"same\", activation='relu'))\n",
        "model.add(BatchNormalization())\n",
        "model.add(MaxPool2D(pool_size=(2, 2)))\n",
        "model.add(Dropout(0.2))\n",
        "\n",
        "model.add(Conv2D(256, kernel_size=(3, 3), padding=\"same\", activation='relu'))\n",
        "model.add(Conv2D(256, kernel_size=(3, 3), padding=\"same\", activation='relu'))\n",
        "model.add(Conv2D(256, kernel_size=(3, 3), padding=\"same\", activation='relu'))\n",
        "model.add(BatchNormalization())\n",
        "model.add(MaxPool2D(pool_size=(2, 2)))\n",
        "model.add(Dropout(0.2))\n",
        "\n",
        "model.add(Flatten())\n",
        "model.add(Dense(512, activation='relu'))\n",
        "model.add(Dense(512, activation='relu'))\n",
        "model.add(Dropout(0.5))\n",
        "model.add(Dense(10, activation='softmax'))\n",
        "\n",
        "model.summary()"
      ],
      "execution_count": 16,
      "outputs": [
        {
          "output_type": "stream",
          "text": [
            "Model: \"sequential\"\n",
            "_________________________________________________________________\n",
            "Layer (type)                 Output Shape              Param #   \n",
            "=================================================================\n",
            "conv2d (Conv2D)              (None, 128, 128, 32)      320       \n",
            "_________________________________________________________________\n",
            "conv2d_1 (Conv2D)            (None, 128, 128, 32)      9248      \n",
            "_________________________________________________________________\n",
            "conv2d_2 (Conv2D)            (None, 128, 128, 32)      9248      \n",
            "_________________________________________________________________\n",
            "batch_normalization (BatchNo (None, 128, 128, 32)      128       \n",
            "_________________________________________________________________\n",
            "max_pooling2d (MaxPooling2D) (None, 64, 64, 32)        0         \n",
            "_________________________________________________________________\n",
            "dropout (Dropout)            (None, 64, 64, 32)        0         \n",
            "_________________________________________________________________\n",
            "conv2d_3 (Conv2D)            (None, 64, 64, 64)        18496     \n",
            "_________________________________________________________________\n",
            "conv2d_4 (Conv2D)            (None, 64, 64, 64)        36928     \n",
            "_________________________________________________________________\n",
            "conv2d_5 (Conv2D)            (None, 64, 64, 64)        36928     \n",
            "_________________________________________________________________\n",
            "batch_normalization_1 (Batch (None, 64, 64, 64)        256       \n",
            "_________________________________________________________________\n",
            "max_pooling2d_1 (MaxPooling2 (None, 32, 32, 64)        0         \n",
            "_________________________________________________________________\n",
            "dropout_1 (Dropout)          (None, 32, 32, 64)        0         \n",
            "_________________________________________________________________\n",
            "conv2d_6 (Conv2D)            (None, 32, 32, 128)       73856     \n",
            "_________________________________________________________________\n",
            "conv2d_7 (Conv2D)            (None, 32, 32, 128)       147584    \n",
            "_________________________________________________________________\n",
            "conv2d_8 (Conv2D)            (None, 32, 32, 128)       147584    \n",
            "_________________________________________________________________\n",
            "batch_normalization_2 (Batch (None, 32, 32, 128)       512       \n",
            "_________________________________________________________________\n",
            "max_pooling2d_2 (MaxPooling2 (None, 16, 16, 128)       0         \n",
            "_________________________________________________________________\n",
            "dropout_2 (Dropout)          (None, 16, 16, 128)       0         \n",
            "_________________________________________________________________\n",
            "conv2d_9 (Conv2D)            (None, 16, 16, 256)       295168    \n",
            "_________________________________________________________________\n",
            "conv2d_10 (Conv2D)           (None, 16, 16, 256)       590080    \n",
            "_________________________________________________________________\n",
            "conv2d_11 (Conv2D)           (None, 16, 16, 256)       590080    \n",
            "_________________________________________________________________\n",
            "batch_normalization_3 (Batch (None, 16, 16, 256)       1024      \n",
            "_________________________________________________________________\n",
            "max_pooling2d_3 (MaxPooling2 (None, 8, 8, 256)         0         \n",
            "_________________________________________________________________\n",
            "dropout_3 (Dropout)          (None, 8, 8, 256)         0         \n",
            "_________________________________________________________________\n",
            "flatten (Flatten)            (None, 16384)             0         \n",
            "_________________________________________________________________\n",
            "dense (Dense)                (None, 512)               8389120   \n",
            "_________________________________________________________________\n",
            "dense_1 (Dense)              (None, 512)               262656    \n",
            "_________________________________________________________________\n",
            "dropout_4 (Dropout)          (None, 512)               0         \n",
            "_________________________________________________________________\n",
            "dense_2 (Dense)              (None, 10)                5130      \n",
            "=================================================================\n",
            "Total params: 10,614,346\n",
            "Trainable params: 10,613,386\n",
            "Non-trainable params: 960\n",
            "_________________________________________________________________\n"
          ],
          "name": "stdout"
        }
      ]
    },
    {
      "cell_type": "code",
      "metadata": {
        "id": "oaiYoqXEVaHI"
      },
      "source": [
        "# # Define the optimizer\n",
        "# optimizer = RMSprop(lr=0.001, rho=0.9, epsilon=1e-08, decay=0.0)\n",
        "# # Set a learning rate annealer\n",
        "# learning_rate_reduction = ReduceLROnPlateau(monitor='val_acc', \n",
        "#                                             patience=3, \n",
        "#                                             verbose=1, \n",
        "#                                             factor=0.5, \n",
        "#                                             min_lr=0.00001)"
      ],
      "execution_count": 17,
      "outputs": []
    },
    {
      "cell_type": "code",
      "metadata": {
        "id": "zrfF9nNtYxc6"
      },
      "source": [
        "annealer = LearningRateScheduler(lambda x: 1e-3 * 0.9 ** x)"
      ],
      "execution_count": 18,
      "outputs": []
    },
    {
      "cell_type": "code",
      "metadata": {
        "colab": {
          "base_uri": "https://localhost:8080/"
        },
        "id": "xi5tUDWBXVh2",
        "outputId": "5411a82f-7bc8-4956-e898-88b37fd0daad"
      },
      "source": [
        "model.compile(loss=\"categorical_crossentropy\", optimizer = Adam(lr=1e-4), metrics=['accuracy'])\n",
        "history = model.fit_generator(datagen.flow(train_images, y_train, batch_size=200),validation_data=(X_val, Y_val), epochs=55, callbacks=[annealer], verbose=2)"
      ],
      "execution_count": 19,
      "outputs": [
        {
          "output_type": "stream",
          "text": [
            "WARNING:tensorflow:From <ipython-input-19-42f1dbb9ba79>:2: Model.fit_generator (from tensorflow.python.keras.engine.training) is deprecated and will be removed in a future version.\n",
            "Instructions for updating:\n",
            "Please use Model.fit, which supports generators.\n",
            "Epoch 1/55\n",
            "WARNING:tensorflow:Callbacks method `on_train_batch_end` is slow compared to the batch time (batch time: 0.1202s vs `on_train_batch_end` time: 0.3037s). Check your callbacks.\n",
            "WARNING:tensorflow:Callbacks method `on_test_batch_end` is slow compared to the batch time (batch time: 0.0031s vs `on_test_batch_end` time: 0.0157s). Check your callbacks.\n",
            "200/200 - 89s - loss: 2.2151 - accuracy: 0.2375 - val_loss: 1.8817 - val_accuracy: 0.2750\n",
            "Epoch 2/55\n",
            "200/200 - 92s - loss: 1.8849 - accuracy: 0.2661 - val_loss: 1.9732 - val_accuracy: 0.2013\n",
            "Epoch 3/55\n",
            "200/200 - 94s - loss: 1.7815 - accuracy: 0.3142 - val_loss: 1.8999 - val_accuracy: 0.2558\n",
            "Epoch 4/55\n",
            "200/200 - 95s - loss: 1.6396 - accuracy: 0.3565 - val_loss: 2.2665 - val_accuracy: 0.1825\n",
            "Epoch 5/55\n",
            "200/200 - 96s - loss: 1.4167 - accuracy: 0.4904 - val_loss: 2.0188 - val_accuracy: 0.3377\n",
            "Epoch 6/55\n",
            "200/200 - 95s - loss: 1.0951 - accuracy: 0.6319 - val_loss: 0.9126 - val_accuracy: 0.6593\n",
            "Epoch 7/55\n",
            "200/200 - 95s - loss: 0.8908 - accuracy: 0.7057 - val_loss: 0.6697 - val_accuracy: 0.7950\n",
            "Epoch 8/55\n",
            "200/200 - 95s - loss: 0.7671 - accuracy: 0.7546 - val_loss: 0.5122 - val_accuracy: 0.8382\n",
            "Epoch 9/55\n",
            "200/200 - 95s - loss: 0.6825 - accuracy: 0.7854 - val_loss: 0.4097 - val_accuracy: 0.8745\n",
            "Epoch 10/55\n",
            "200/200 - 95s - loss: 0.6189 - accuracy: 0.8055 - val_loss: 0.4508 - val_accuracy: 0.8720\n",
            "Epoch 11/55\n",
            "200/200 - 95s - loss: 0.5698 - accuracy: 0.8209 - val_loss: 0.3925 - val_accuracy: 0.8992\n",
            "Epoch 12/55\n",
            "200/200 - 95s - loss: 0.5398 - accuracy: 0.8303 - val_loss: 0.2182 - val_accuracy: 0.9342\n",
            "Epoch 13/55\n",
            "200/200 - 95s - loss: 0.5027 - accuracy: 0.8438 - val_loss: 0.1942 - val_accuracy: 0.9440\n",
            "Epoch 14/55\n",
            "200/200 - 95s - loss: 0.4790 - accuracy: 0.8506 - val_loss: 0.1625 - val_accuracy: 0.9595\n",
            "Epoch 15/55\n",
            "200/200 - 95s - loss: 0.4645 - accuracy: 0.8552 - val_loss: 0.1831 - val_accuracy: 0.9473\n",
            "Epoch 16/55\n",
            "200/200 - 95s - loss: 0.4501 - accuracy: 0.8577 - val_loss: 0.1129 - val_accuracy: 0.9655\n",
            "Epoch 17/55\n",
            "200/200 - 95s - loss: 0.4400 - accuracy: 0.8604 - val_loss: 0.1279 - val_accuracy: 0.9638\n",
            "Epoch 18/55\n",
            "200/200 - 95s - loss: 0.4267 - accuracy: 0.8666 - val_loss: 0.1014 - val_accuracy: 0.9737\n",
            "Epoch 19/55\n",
            "200/200 - 95s - loss: 0.4159 - accuracy: 0.8702 - val_loss: 0.1034 - val_accuracy: 0.9710\n",
            "Epoch 20/55\n",
            "200/200 - 95s - loss: 0.4053 - accuracy: 0.8724 - val_loss: 0.1014 - val_accuracy: 0.9707\n",
            "Epoch 21/55\n",
            "200/200 - 95s - loss: 0.4059 - accuracy: 0.8726 - val_loss: 0.1085 - val_accuracy: 0.9703\n",
            "Epoch 22/55\n",
            "200/200 - 95s - loss: 0.3870 - accuracy: 0.8771 - val_loss: 0.0927 - val_accuracy: 0.9737\n",
            "Epoch 23/55\n",
            "200/200 - 95s - loss: 0.3760 - accuracy: 0.8827 - val_loss: 0.0948 - val_accuracy: 0.9755\n",
            "Epoch 24/55\n",
            "200/200 - 95s - loss: 0.3800 - accuracy: 0.8798 - val_loss: 0.0868 - val_accuracy: 0.9765\n",
            "Epoch 25/55\n",
            "200/200 - 95s - loss: 0.3761 - accuracy: 0.8815 - val_loss: 0.0860 - val_accuracy: 0.9760\n",
            "Epoch 26/55\n",
            "200/200 - 95s - loss: 0.3634 - accuracy: 0.8851 - val_loss: 0.0843 - val_accuracy: 0.9778\n",
            "Epoch 27/55\n",
            "200/200 - 95s - loss: 0.3611 - accuracy: 0.8850 - val_loss: 0.0897 - val_accuracy: 0.9772\n",
            "Epoch 28/55\n",
            "200/200 - 95s - loss: 0.3611 - accuracy: 0.8850 - val_loss: 0.0792 - val_accuracy: 0.9787\n",
            "Epoch 29/55\n",
            "200/200 - 95s - loss: 0.3591 - accuracy: 0.8836 - val_loss: 0.0788 - val_accuracy: 0.9790\n",
            "Epoch 30/55\n",
            "200/200 - 95s - loss: 0.3539 - accuracy: 0.8860 - val_loss: 0.0877 - val_accuracy: 0.9785\n",
            "Epoch 31/55\n",
            "200/200 - 95s - loss: 0.3503 - accuracy: 0.8872 - val_loss: 0.0770 - val_accuracy: 0.9803\n",
            "Epoch 32/55\n",
            "200/200 - 95s - loss: 0.3567 - accuracy: 0.8857 - val_loss: 0.0748 - val_accuracy: 0.9797\n",
            "Epoch 33/55\n",
            "200/200 - 95s - loss: 0.3509 - accuracy: 0.8876 - val_loss: 0.0777 - val_accuracy: 0.9793\n",
            "Epoch 34/55\n",
            "200/200 - 95s - loss: 0.3469 - accuracy: 0.8894 - val_loss: 0.0737 - val_accuracy: 0.9820\n",
            "Epoch 35/55\n",
            "200/200 - 95s - loss: 0.3392 - accuracy: 0.8903 - val_loss: 0.0742 - val_accuracy: 0.9795\n",
            "Epoch 36/55\n",
            "200/200 - 95s - loss: 0.3437 - accuracy: 0.8884 - val_loss: 0.0743 - val_accuracy: 0.9793\n",
            "Epoch 37/55\n",
            "200/200 - 95s - loss: 0.3459 - accuracy: 0.8870 - val_loss: 0.0754 - val_accuracy: 0.9800\n",
            "Epoch 38/55\n",
            "200/200 - 95s - loss: 0.3426 - accuracy: 0.8892 - val_loss: 0.0649 - val_accuracy: 0.9812\n",
            "Epoch 39/55\n",
            "200/200 - 95s - loss: 0.3382 - accuracy: 0.8887 - val_loss: 0.0672 - val_accuracy: 0.9822\n",
            "Epoch 40/55\n",
            "200/200 - 95s - loss: 0.3450 - accuracy: 0.8873 - val_loss: 0.0661 - val_accuracy: 0.9825\n",
            "Epoch 41/55\n",
            "200/200 - 95s - loss: 0.3306 - accuracy: 0.8927 - val_loss: 0.0704 - val_accuracy: 0.9815\n",
            "Epoch 42/55\n",
            "200/200 - 95s - loss: 0.3419 - accuracy: 0.8894 - val_loss: 0.0671 - val_accuracy: 0.9827\n",
            "Epoch 43/55\n",
            "200/200 - 95s - loss: 0.3348 - accuracy: 0.8918 - val_loss: 0.0686 - val_accuracy: 0.9810\n",
            "Epoch 44/55\n",
            "200/200 - 95s - loss: 0.3392 - accuracy: 0.8900 - val_loss: 0.0693 - val_accuracy: 0.9818\n",
            "Epoch 45/55\n",
            "200/200 - 95s - loss: 0.3319 - accuracy: 0.8925 - val_loss: 0.0693 - val_accuracy: 0.9812\n",
            "Epoch 46/55\n",
            "200/200 - 95s - loss: 0.3418 - accuracy: 0.8892 - val_loss: 0.0676 - val_accuracy: 0.9825\n",
            "Epoch 47/55\n",
            "200/200 - 95s - loss: 0.3344 - accuracy: 0.8902 - val_loss: 0.0677 - val_accuracy: 0.9820\n",
            "Epoch 48/55\n",
            "200/200 - 95s - loss: 0.3345 - accuracy: 0.8905 - val_loss: 0.0656 - val_accuracy: 0.9825\n",
            "Epoch 49/55\n",
            "200/200 - 95s - loss: 0.3356 - accuracy: 0.8919 - val_loss: 0.0660 - val_accuracy: 0.9825\n",
            "Epoch 50/55\n",
            "200/200 - 95s - loss: 0.3310 - accuracy: 0.8928 - val_loss: 0.0661 - val_accuracy: 0.9825\n",
            "Epoch 51/55\n",
            "200/200 - 95s - loss: 0.3358 - accuracy: 0.8897 - val_loss: 0.0682 - val_accuracy: 0.9820\n",
            "Epoch 52/55\n",
            "200/200 - 95s - loss: 0.3266 - accuracy: 0.8927 - val_loss: 0.0665 - val_accuracy: 0.9827\n",
            "Epoch 53/55\n",
            "200/200 - 95s - loss: 0.3314 - accuracy: 0.8913 - val_loss: 0.0654 - val_accuracy: 0.9830\n",
            "Epoch 54/55\n",
            "200/200 - 95s - loss: 0.3326 - accuracy: 0.8906 - val_loss: 0.0649 - val_accuracy: 0.9833\n",
            "Epoch 55/55\n",
            "200/200 - 95s - loss: 0.3318 - accuracy: 0.8907 - val_loss: 0.0646 - val_accuracy: 0.9837\n"
          ],
          "name": "stdout"
        }
      ]
    },
    {
      "cell_type": "code",
      "metadata": {
        "id": "BbX5q8fa0mJj"
      },
      "source": [
        "model.save('modified_MNIST.h5')"
      ],
      "execution_count": 20,
      "outputs": []
    },
    {
      "cell_type": "code",
      "metadata": {
        "colab": {
          "base_uri": "https://localhost:8080/",
          "height": 279
        },
        "id": "AhDLCo6N0OSf",
        "outputId": "3223aa06-386d-4bc3-a3c9-4722834bf536"
      },
      "source": [
        "plt.plot(history.history[\"accuracy\"], label=\"accuracy\")\n",
        "plt.plot(history.history[\"val_accuracy\"], label=\"val_accuracy\")\n",
        "plt.xlabel('Epoch')\n",
        "plt.ylabel('Accuracy')\n",
        "plt.legend(loc='lower right')\n",
        "plt.show()"
      ],
      "execution_count": 21,
      "outputs": [
        {
          "output_type": "display_data",
          "data": {
            "image/png": "[encoded data removed]",
            "text/plain": [
              "<Figure size 432x288 with 1 Axes>"
            ]
          },
          "metadata": {
            "tags": [],
            "needs_background": "light"
          }
        }
      ]
    },
    {
      "cell_type": "code",
      "metadata": {
        "colab": {
          "base_uri": "https://localhost:8080/"
        },
        "id": "CbNYF0VP4v3t",
        "outputId": "cea2d0e3-174e-4458-cd01-3ed186b99ac2"
      },
      "source": [
        "labels_probabilities = model.predict(x_test)\n",
        "labels = np.argmax(labels_probabilities, axis=1)\n",
        "print(labels)"
      ],
      "execution_count": 22,
      "outputs": [
        {
          "output_type": "stream",
          "text": [
            "[7 5 9 ... 5 3 5]\n"
          ],
          "name": "stdout"
        }
      ]
    },
    {
      "cell_type": "markdown",
      "metadata": {
        "id": "ItQd_4G59-mn"
      },
      "source": [
        "Optimizing the best parameter"
      ]
    },
    {
      "cell_type": "code",
      "metadata": {
        "colab": {
          "base_uri": "https://localhost:8080/",
          "height": 232
        },
        "id": "_Ax8xTNd-A9E",
        "outputId": "d0dad8c0-2bfb-42e2-f0fc-a7220258feaf"
      },
      "source": [
        "def create_model(dropout_rate=0):\n",
        "  model = Sequential()\n",
        "  model.add(Dense(512,activation='relu',input_shape=(128,128,1)))\n",
        "\n",
        "  #add a dropout layer whenever rate != None\n",
        "  if dropout_rate != 0:\n",
        "    model.add(Dropout(rate=dropout_rate))\n",
        "  model.add(Dense(64,activation='sigmoid'))\n",
        "\n",
        "  if dropout_rate != 0:\n",
        "    model.add(Dropout(rate=dropout_rate))\n",
        "  model.add(Dense(10,activation='softmax'))\n",
        "  \n",
        "  # Compile model\n",
        "  model.compile(optimizer='adam', loss='categorical_crossentropy',\n",
        "        metrics=['accuracy'],\n",
        "        )\n",
        "  return model\n",
        "\n",
        "\n",
        "#Create our new model\n",
        "model = KerasClassifier(build_fn=create_model, verbose=1)\n",
        "# define parameters for grid search CV  \n",
        "param_grid = {\n",
        "      \n",
        "      'epochs':[3, 5],\n",
        "      'batch_size':[64, 128, 256],\n",
        "      'dropout_rate': [0.0, 0.10, 0.20, 0.30]\n",
        "    }\n",
        "grid = GridSearchCV(estimator=model, param_grid=param_grid, n_jobs=None, cv=3)\n",
        "grid_result = grid.fit(X_train, Y_train)"
      ],
      "execution_count": 23,
      "outputs": [
        {
          "output_type": "error",
          "ename": "NameError",
          "evalue": "ignored",
          "traceback": [
            "\u001b[0;31m---------------------------------------------------------------------------\u001b[0m",
            "\u001b[0;31mNameError\u001b[0m                                 Traceback (most recent call last)",
            "\u001b[0;32m<ipython-input-23-713d5d7689a8>\u001b[0m in \u001b[0;36m<module>\u001b[0;34m()\u001b[0m\n\u001b[1;32m     20\u001b[0m \u001b[0;34m\u001b[0m\u001b[0m\n\u001b[1;32m     21\u001b[0m \u001b[0;31m#Create our new model\u001b[0m\u001b[0;34m\u001b[0m\u001b[0;34m\u001b[0m\u001b[0;34m\u001b[0m\u001b[0m\n\u001b[0;32m---> 22\u001b[0;31m \u001b[0mmodel\u001b[0m \u001b[0;34m=\u001b[0m \u001b[0mKerasClassifier\u001b[0m\u001b[0;34m(\u001b[0m\u001b[0mbuild_fn\u001b[0m\u001b[0;34m=\u001b[0m\u001b[0mcreate_model\u001b[0m\u001b[0;34m,\u001b[0m \u001b[0mverbose\u001b[0m\u001b[0;34m=\u001b[0m\u001b[0;36m1\u001b[0m\u001b[0;34m)\u001b[0m\u001b[0;34m\u001b[0m\u001b[0;34m\u001b[0m\u001b[0m\n\u001b[0m\u001b[1;32m     23\u001b[0m \u001b[0;31m# define parameters for grid search CV\u001b[0m\u001b[0;34m\u001b[0m\u001b[0;34m\u001b[0m\u001b[0;34m\u001b[0m\u001b[0m\n\u001b[1;32m     24\u001b[0m param_grid = {\n",
            "\u001b[0;31mNameError\u001b[0m: name 'KerasClassifier' is not defined"
          ]
        }
      ]
    },
    {
      "cell_type": "code",
      "metadata": {
        "id": "Ak7DV0PMpn96"
      },
      "source": [
        "#Print out point for our gridSearch CV\n",
        "print('Best score = {:.4f} using {}'.format(grid_result.best_score_, grid_result.best_params_))"
      ],
      "execution_count": null,
      "outputs": []
    },
    {
      "cell_type": "code",
      "metadata": {
        "id": "BbcweuGDfL2K"
      },
      "source": [
        "\n",
        "for i in labels:\n",
        "  print(i)"
      ],
      "execution_count": null,
      "outputs": []
    },
    {
      "cell_type": "code",
      "metadata": {
        "id": "sH0tprR0BOJb"
      },
      "source": [
        "ids = [i for i in range(len(labels))]\n",
        "ids = np.array(ids)\n",
        "df = pd.DataFrame({'Id':ids, 'Label': labels})\n",
        "df.to_csv('prediction.csv', index=False)"
      ],
      "execution_count": 24,
      "outputs": []
    }
  ]
}